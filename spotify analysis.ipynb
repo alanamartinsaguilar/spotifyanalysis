{
 "cells": [
  {
   "cell_type": "code",
   "execution_count": 100,
   "metadata": {},
   "outputs": [],
   "source": [
    "import pandas as pd\n",
    "import seaborn as sns\n",
    "import matplotlib.pyplot as plt\n",
    "import os\n",
    "import spotipy\n",
    "from spotipy.oauth2 import SpotifyClientCredentials\n",
    "from spotipy.oauth2 import SpotifyOAuth\n",
    "from dotenv import dotenv_values\n",
    "import requests\n",
    "import plotly.express as px \n",
    "import plotly.graph_objects as go\n",
    "import warnings\n",
    "warnings.filterwarnings(\"ignore\")"
   ]
  },
  {
   "cell_type": "code",
   "execution_count": 2,
   "metadata": {},
   "outputs": [],
   "source": [
    "# recuperando credencials em arquivo env por questão de privacidade\n",
    "config = dotenv_values(\"credentials.env\")\n",
    "\n",
    "# setando credenciais\n",
    "SPOTIPY_CLIENT_ID=config[\"SPOTIPY_CLIENT_ID\"]\n",
    "SPOTIPY_CLIENT_SECRET=config[\"SPOTIPY_CLIENT_SECRET\"]\n",
    "SPOTIPY_REDIRECT_URI=config[\"SPOTIPY_REDIRECT_URI\"]"
   ]
  },
  {
   "cell_type": "code",
   "execution_count": 185,
   "metadata": {},
   "outputs": [],
   "source": [
    "# inserindo credenciais na api e algumas chamadas especificas para endpoints que pedem um escopo especifico\n",
    "\n",
    "# chamada geral para endpoints que não requerem um escopo\n",
    "sp = spotipy.Spotify(auth_manager=SpotifyOAuth(client_id = SPOTIPY_CLIENT_ID,\n",
    "                                                      client_secret = SPOTIPY_CLIENT_SECRET,\n",
    "                                                      redirect_uri = SPOTIPY_REDIRECT_URI\n",
    "                                                      ))\n",
    "\n",
    "# chamada para o endpoint de top items (artistas ou musicas)\n",
    "sp_tops = spotipy.Spotify(auth_manager=SpotifyOAuth(client_id = SPOTIPY_CLIENT_ID,\n",
    "                                                      client_secret = SPOTIPY_CLIENT_SECRET,\n",
    "                                                      redirect_uri = SPOTIPY_REDIRECT_URI,\n",
    "                                                      scope=\"user-top-read\"\n",
    "                                                      ))\n",
    "\n",
    "    "
   ]
  },
  {
   "attachments": {},
   "cell_type": "markdown",
   "metadata": {},
   "source": [
    "##### Analisando a evolução de genero musical dos meus 50 artistas mais ouvidos"
   ]
  },
  {
   "cell_type": "code",
   "execution_count": 59,
   "metadata": {},
   "outputs": [],
   "source": [
    "# função para gerar dataset de quantidade de artistas mais ouvidos por periodo de tempo\n",
    "def top_artists(time_range, quant): \n",
    "    top_artists = sp_tops.current_user_top_artists(time_range=time_range, limit=quant)\n",
    "    infos = []\n",
    "    for item in top_artists[\"items\"]:\n",
    "        artista = {}\n",
    "        artista[\"nome\"] = item[\"name\"]\n",
    "        try:\n",
    "            artista[\"genero_principal\"] = item[\"genres\"][0]\n",
    "        except:\n",
    "            artista[\"genero_principal\"] = \"Outros\"\n",
    "        try:\n",
    "            artista[\"genero_secundario\"] = item[\"genres\"][1]\n",
    "        except: \n",
    "            pass\n",
    "        artista[\"id\"] = item[\"id\"]\n",
    "        infos.append(artista)\n",
    "    artists_df = pd.DataFrame()\n",
    "    artists_df = artists_df.append(infos)\n",
    "\n",
    "    generos = [\"rock\", \"pop\", \"funk\", \"hip hop\", \"rap\", \"indie\", \"metal\"]\n",
    "    # encontra primeira palavra de uma lista de generos pré definidas por mim\n",
    "    def checa_genero(x):\n",
    "        for genero in generos:\n",
    "            if genero in x:\n",
    "                return genero\n",
    "            else:\n",
    "                pass \n",
    "    \n",
    "    artists_df[\"genero_primario\"] = artists_df[\"genero_principal\"].apply(lambda x: checa_genero(x))\n",
    "    artists_df[\"genero_primario\"] = artists_df[\"genero_primario\"].fillna(\"Outros\")\n",
    "    artists_df[\"time_range\"] = time_range\n",
    "\n",
    "    return artists_df\n",
    "\n",
    "       "
   ]
  },
  {
   "cell_type": "code",
   "execution_count": 61,
   "metadata": {},
   "outputs": [],
   "source": [
    "long_term = top_artists(\"long_term\", 50)\n",
    "medium_term = top_artists(\"medium_term\", 50)\n",
    "\n",
    "geral = pd.concat([long_term, medium_term])"
   ]
  },
  {
   "cell_type": "code",
   "execution_count": 71,
   "metadata": {},
   "outputs": [
    {
     "data": {
      "application/vnd.plotly.v1+json": {
       "config": {
        "plotlyServerURL": "https://plot.ly"
       },
       "data": [
        {
         "alignmentgroup": "True",
         "customdata": [
          [
           "Ed Sheeran",
           "pop",
           "uk pop"
          ],
          [
           "Taylor Swift",
           "pop",
           null
          ],
          [
           "Machine Gun Kelly",
           "ohio hip hop",
           "pop rap"
          ],
          [
           "Strike",
           "brazilian rock",
           "musica juiz-forana"
          ],
          [
           "Turma do Pagode",
           "pagode",
           "pagode novo"
          ],
          [
           "Paramore",
           "candy pop",
           "pixie"
          ],
          [
           "Alok",
           "electro house",
           "pop nacional"
          ],
          [
           "PEDRO SAMPAIO",
           "funk carioca",
           "funk rj"
          ],
          [
           "Linkin Park",
           "alternative metal",
           "nu metal"
          ],
          [
           "YUNGBLUD",
           "british indie rock",
           "modern rock"
          ],
          [
           "Jovem Dionisio",
           "indie curitibano",
           null
          ],
          [
           "Foo Fighters",
           "alternative metal",
           "alternative rock"
          ],
          [
           "Justin Bieber",
           "canadian pop",
           "pop"
          ],
          [
           "Luísa Sonza",
           "funk carioca",
           "pop nacional"
          ],
          [
           "Marshmello",
           "brostep",
           "dance pop"
          ],
          [
           "Måneskin",
           "indie rock italiano",
           "italian pop"
          ],
          [
           "Charlie Brown Jr.",
           "brazilian rock",
           "hard rock brasileiro"
          ],
          [
           "Red Hot Chili Peppers",
           "alternative rock",
           "funk metal"
          ],
          [
           "New Found Glory",
           "easycore",
           "emo"
          ],
          [
           "Atitude 67",
           "pagode",
           "pop nacional"
          ],
          [
           "Gloria Groove",
           "funk carioca",
           "pop lgbtq+ brasileira"
          ],
          [
           "Henrique & Juliano",
           "arrocha",
           "sertanejo universitario"
          ],
          [
           "The Chainsmokers",
           "dance pop",
           "edm"
          ],
          [
           "Lauv",
           "dance pop",
           "electropop"
          ],
          [
           "Ariana Grande",
           "dance pop",
           "pop"
          ],
          [
           "Matheus & Kauan",
           "arrocha",
           "pop nacional"
          ],
          [
           "The Wallflowers",
           "alternative rock",
           "mellow gold"
          ],
          [
           "DENNIS",
           "funk carioca",
           "funk das antigas"
          ],
          [
           "Marjorie Estiano",
           "pop rock brasileiro",
           null
          ],
          [
           "Anitta",
           "funk pop",
           "funk rj"
          ],
          [
           "Marília Mendonça",
           "arrocha",
           "sertanejo"
          ],
          [
           "Luan Santana",
           "arrocha",
           "sertanejo"
          ],
          [
           "Martin Garrix",
           "dance pop",
           "dutch edm"
          ],
          [
           "The Kooks",
           "brighton indie",
           "modern rock"
          ],
          [
           "Emicida",
           "afrofuturismo brasileiro",
           "brazilian hip hop"
          ],
          [
           "Queen",
           "classic rock",
           "glam rock"
          ],
          [
           "Oliver Tree",
           "alternative hip hop",
           null
          ],
          [
           "Juliette",
           "Outros",
           null
          ],
          [
           "Avril Lavigne",
           "canadian pop",
           "candy pop"
          ],
          [
           "MC Kevinho",
           "arrocha",
           "funk carioca"
          ],
          [
           "Tiësto",
           "big room",
           "brostep"
          ],
          [
           "Hilary Duff",
           "dance pop",
           "pop"
          ],
          [
           "blink-182",
           "pop punk",
           "punk"
          ],
          [
           "Jorge & Mateus",
           "arrocha",
           "sertanejo"
          ],
          [
           "The Offspring",
           "alternative metal",
           "permanent wave"
          ],
          [
           "MC JottaPê",
           "arrochadeira",
           "funk carioca"
          ],
          [
           "Angus & Julia Stone",
           "australian indie folk",
           "indie folk"
          ],
          [
           "Zedd",
           "complextro",
           "dance pop"
          ],
          [
           "Selena Gomez",
           "dance pop",
           "pop"
          ],
          [
           "ANAVITÓRIA",
           "folk brasileiro",
           "nova mpb"
          ]
         ],
         "hovertemplate": "time_range=long_term<br>Genero Primario=%{x}<br>Count=%{y}<br>nome=%{customdata[0]}<br>genero_principal=%{customdata[1]}<br>genero_secundario=%{customdata[2]}<extra></extra>",
         "legendgroup": "long_term",
         "marker": {
          "color": "#636efa",
          "pattern": {
           "shape": ""
          }
         },
         "name": "long_term",
         "offsetgroup": "long_term",
         "orientation": "v",
         "showlegend": true,
         "textposition": "auto",
         "type": "bar",
         "x": [
          "pop",
          "pop",
          "hip hop",
          "rock",
          "Outros",
          "pop",
          "Outros",
          "funk",
          "metal",
          "rock",
          "indie",
          "metal",
          "pop",
          "funk",
          "Outros",
          "rock",
          "rock",
          "rock",
          "Outros",
          "Outros",
          "funk",
          "Outros",
          "pop",
          "pop",
          "pop",
          "Outros",
          "rock",
          "funk",
          "rock",
          "pop",
          "Outros",
          "Outros",
          "pop",
          "indie",
          "Outros",
          "rock",
          "hip hop",
          "Outros",
          "pop",
          "Outros",
          "Outros",
          "pop",
          "pop",
          "Outros",
          "metal",
          "Outros",
          "indie",
          "Outros",
          "pop",
          "Outros"
         ],
         "xaxis": "x",
         "y": [
          1,
          1,
          1,
          1,
          1,
          1,
          1,
          1,
          1,
          1,
          1,
          1,
          1,
          1,
          1,
          1,
          1,
          1,
          1,
          1,
          1,
          1,
          1,
          1,
          1,
          1,
          1,
          1,
          1,
          1,
          1,
          1,
          1,
          1,
          1,
          1,
          1,
          1,
          1,
          1,
          1,
          1,
          1,
          1,
          1,
          1,
          1,
          1,
          1,
          1
         ],
         "yaxis": "y"
        },
        {
         "alignmentgroup": "True",
         "customdata": [
          [
           "Strike",
           "brazilian rock",
           "musica juiz-forana"
          ],
          [
           "Machine Gun Kelly",
           "ohio hip hop",
           "pop rap"
          ],
          [
           "Paramore",
           "candy pop",
           "pixie"
          ],
          [
           "YUNGBLUD",
           "british indie rock",
           "modern rock"
          ],
          [
           "PEDRO SAMPAIO",
           "funk carioca",
           "funk rj"
          ],
          [
           "Ed Sheeran",
           "pop",
           "uk pop"
          ],
          [
           "Jovem Dionisio",
           "indie curitibano",
           null
          ],
          [
           "Foo Fighters",
           "alternative metal",
           "alternative rock"
          ],
          [
           "Red Hot Chili Peppers",
           "alternative rock",
           "funk metal"
          ],
          [
           "Måneskin",
           "indie rock italiano",
           "italian pop"
          ],
          [
           "Taylor Swift",
           "pop",
           null
          ],
          [
           "Oliver Tree",
           "alternative hip hop",
           null
          ],
          [
           "Marshmello",
           "brostep",
           "dance pop"
          ],
          [
           "The Kooks",
           "brighton indie",
           "modern rock"
          ],
          [
           "Alok",
           "electro house",
           "pop nacional"
          ],
          [
           "Queen",
           "classic rock",
           "glam rock"
          ],
          [
           "Avril Lavigne",
           "canadian pop",
           "candy pop"
          ],
          [
           "Anitta",
           "funk pop",
           "funk rj"
          ],
          [
           "The Chainsmokers",
           "dance pop",
           "edm"
          ],
          [
           "Justin Bieber",
           "canadian pop",
           "pop"
          ],
          [
           "Aerosmith",
           "album rock",
           "classic rock"
          ],
          [
           "Arctic Monkeys",
           "garage rock",
           "modern rock"
          ],
          [
           "The Kid LAROI",
           "australian hip hop",
           "pop"
          ],
          [
           "Muse",
           "modern rock",
           "permanent wave"
          ],
          [
           "Tiësto",
           "big room",
           "brostep"
          ],
          [
           "DENNIS",
           "funk carioca",
           "funk das antigas"
          ],
          [
           "Matheus & Kauan",
           "arrocha",
           "pop nacional"
          ],
          [
           "Black Sabbath",
           "album rock",
           "birmingham metal"
          ],
          [
           "Gloria Groove",
           "funk carioca",
           "pop lgbtq+ brasileira"
          ],
          [
           "WC no Beat",
           "brazilian hip hop",
           "funk carioca"
          ],
          [
           "Projota",
           "brazilian hip hop",
           "brazilian rock"
          ],
          [
           "Luan Santana",
           "arrocha",
           "sertanejo"
          ],
          [
           "benny blanco",
           "dance pop",
           "edm"
          ],
          [
           "Kings of Leon",
           "modern rock",
           "rock"
          ],
          [
           "Lauv",
           "dance pop",
           "electropop"
          ],
          [
           "Martin Garrix",
           "dance pop",
           "dutch edm"
          ],
          [
           "Britney Spears",
           "dance pop",
           "pop"
          ],
          [
           "Linkin Park",
           "alternative metal",
           "nu metal"
          ],
          [
           "Marília Mendonça",
           "arrocha",
           "sertanejo"
          ],
          [
           "Rita Ora",
           "australian pop",
           "dance pop"
          ],
          [
           "blink-182",
           "pop punk",
           "punk"
          ],
          [
           "Maroon 5",
           "pop",
           null
          ],
          [
           "Atitude 67",
           "pagode",
           "pop nacional"
          ],
          [
           "Kid Ink",
           "dance pop",
           "pop rap"
          ],
          [
           "Post Malone",
           "dfw rap",
           "melodic rap"
          ],
          [
           "blackbear",
           "pop",
           "pop rap"
          ],
          [
           "Fall Out Boy",
           "emo",
           "modern rock"
          ],
          [
           "Ariana Grande",
           "dance pop",
           "pop"
          ],
          [
           "Khalid",
           "pop",
           "pop r&b"
          ],
          [
           "The Black Keys",
           "alternative rock",
           "blues rock"
          ]
         ],
         "hovertemplate": "time_range=medium_term<br>Genero Primario=%{x}<br>Count=%{y}<br>nome=%{customdata[0]}<br>genero_principal=%{customdata[1]}<br>genero_secundario=%{customdata[2]}<extra></extra>",
         "legendgroup": "medium_term",
         "marker": {
          "color": "#EF553B",
          "pattern": {
           "shape": ""
          }
         },
         "name": "medium_term",
         "offsetgroup": "medium_term",
         "orientation": "v",
         "showlegend": true,
         "textposition": "auto",
         "type": "bar",
         "x": [
          "rock",
          "hip hop",
          "pop",
          "rock",
          "funk",
          "pop",
          "indie",
          "metal",
          "rock",
          "rock",
          "pop",
          "hip hop",
          "Outros",
          "indie",
          "Outros",
          "rock",
          "pop",
          "pop",
          "pop",
          "pop",
          "rock",
          "rock",
          "hip hop",
          "rock",
          "Outros",
          "funk",
          "Outros",
          "rock",
          "funk",
          "hip hop",
          "hip hop",
          "Outros",
          "pop",
          "rock",
          "pop",
          "pop",
          "pop",
          "metal",
          "Outros",
          "pop",
          "pop",
          "pop",
          "Outros",
          "pop",
          "rap",
          "pop",
          "Outros",
          "pop",
          "pop",
          "rock"
         ],
         "xaxis": "x",
         "y": [
          1,
          1,
          1,
          1,
          1,
          1,
          1,
          1,
          1,
          1,
          1,
          1,
          1,
          1,
          1,
          1,
          1,
          1,
          1,
          1,
          1,
          1,
          1,
          1,
          1,
          1,
          1,
          1,
          1,
          1,
          1,
          1,
          1,
          1,
          1,
          1,
          1,
          1,
          1,
          1,
          1,
          1,
          1,
          1,
          1,
          1,
          1,
          1,
          1,
          1
         ],
         "yaxis": "y"
        }
       ],
       "layout": {
        "barmode": "group",
        "legend": {
         "title": {
          "text": "time_range"
         },
         "tracegroupgap": 0
        },
        "template": {
         "data": {
          "bar": [
           {
            "error_x": {
             "color": "#2a3f5f"
            },
            "error_y": {
             "color": "#2a3f5f"
            },
            "marker": {
             "line": {
              "color": "#E5ECF6",
              "width": 0.5
             },
             "pattern": {
              "fillmode": "overlay",
              "size": 10,
              "solidity": 0.2
             }
            },
            "type": "bar"
           }
          ],
          "barpolar": [
           {
            "marker": {
             "line": {
              "color": "#E5ECF6",
              "width": 0.5
             },
             "pattern": {
              "fillmode": "overlay",
              "size": 10,
              "solidity": 0.2
             }
            },
            "type": "barpolar"
           }
          ],
          "carpet": [
           {
            "aaxis": {
             "endlinecolor": "#2a3f5f",
             "gridcolor": "white",
             "linecolor": "white",
             "minorgridcolor": "white",
             "startlinecolor": "#2a3f5f"
            },
            "baxis": {
             "endlinecolor": "#2a3f5f",
             "gridcolor": "white",
             "linecolor": "white",
             "minorgridcolor": "white",
             "startlinecolor": "#2a3f5f"
            },
            "type": "carpet"
           }
          ],
          "choropleth": [
           {
            "colorbar": {
             "outlinewidth": 0,
             "ticks": ""
            },
            "type": "choropleth"
           }
          ],
          "contour": [
           {
            "colorbar": {
             "outlinewidth": 0,
             "ticks": ""
            },
            "colorscale": [
             [
              0,
              "#0d0887"
             ],
             [
              0.1111111111111111,
              "#46039f"
             ],
             [
              0.2222222222222222,
              "#7201a8"
             ],
             [
              0.3333333333333333,
              "#9c179e"
             ],
             [
              0.4444444444444444,
              "#bd3786"
             ],
             [
              0.5555555555555556,
              "#d8576b"
             ],
             [
              0.6666666666666666,
              "#ed7953"
             ],
             [
              0.7777777777777778,
              "#fb9f3a"
             ],
             [
              0.8888888888888888,
              "#fdca26"
             ],
             [
              1,
              "#f0f921"
             ]
            ],
            "type": "contour"
           }
          ],
          "contourcarpet": [
           {
            "colorbar": {
             "outlinewidth": 0,
             "ticks": ""
            },
            "type": "contourcarpet"
           }
          ],
          "heatmap": [
           {
            "colorbar": {
             "outlinewidth": 0,
             "ticks": ""
            },
            "colorscale": [
             [
              0,
              "#0d0887"
             ],
             [
              0.1111111111111111,
              "#46039f"
             ],
             [
              0.2222222222222222,
              "#7201a8"
             ],
             [
              0.3333333333333333,
              "#9c179e"
             ],
             [
              0.4444444444444444,
              "#bd3786"
             ],
             [
              0.5555555555555556,
              "#d8576b"
             ],
             [
              0.6666666666666666,
              "#ed7953"
             ],
             [
              0.7777777777777778,
              "#fb9f3a"
             ],
             [
              0.8888888888888888,
              "#fdca26"
             ],
             [
              1,
              "#f0f921"
             ]
            ],
            "type": "heatmap"
           }
          ],
          "heatmapgl": [
           {
            "colorbar": {
             "outlinewidth": 0,
             "ticks": ""
            },
            "colorscale": [
             [
              0,
              "#0d0887"
             ],
             [
              0.1111111111111111,
              "#46039f"
             ],
             [
              0.2222222222222222,
              "#7201a8"
             ],
             [
              0.3333333333333333,
              "#9c179e"
             ],
             [
              0.4444444444444444,
              "#bd3786"
             ],
             [
              0.5555555555555556,
              "#d8576b"
             ],
             [
              0.6666666666666666,
              "#ed7953"
             ],
             [
              0.7777777777777778,
              "#fb9f3a"
             ],
             [
              0.8888888888888888,
              "#fdca26"
             ],
             [
              1,
              "#f0f921"
             ]
            ],
            "type": "heatmapgl"
           }
          ],
          "histogram": [
           {
            "marker": {
             "pattern": {
              "fillmode": "overlay",
              "size": 10,
              "solidity": 0.2
             }
            },
            "type": "histogram"
           }
          ],
          "histogram2d": [
           {
            "colorbar": {
             "outlinewidth": 0,
             "ticks": ""
            },
            "colorscale": [
             [
              0,
              "#0d0887"
             ],
             [
              0.1111111111111111,
              "#46039f"
             ],
             [
              0.2222222222222222,
              "#7201a8"
             ],
             [
              0.3333333333333333,
              "#9c179e"
             ],
             [
              0.4444444444444444,
              "#bd3786"
             ],
             [
              0.5555555555555556,
              "#d8576b"
             ],
             [
              0.6666666666666666,
              "#ed7953"
             ],
             [
              0.7777777777777778,
              "#fb9f3a"
             ],
             [
              0.8888888888888888,
              "#fdca26"
             ],
             [
              1,
              "#f0f921"
             ]
            ],
            "type": "histogram2d"
           }
          ],
          "histogram2dcontour": [
           {
            "colorbar": {
             "outlinewidth": 0,
             "ticks": ""
            },
            "colorscale": [
             [
              0,
              "#0d0887"
             ],
             [
              0.1111111111111111,
              "#46039f"
             ],
             [
              0.2222222222222222,
              "#7201a8"
             ],
             [
              0.3333333333333333,
              "#9c179e"
             ],
             [
              0.4444444444444444,
              "#bd3786"
             ],
             [
              0.5555555555555556,
              "#d8576b"
             ],
             [
              0.6666666666666666,
              "#ed7953"
             ],
             [
              0.7777777777777778,
              "#fb9f3a"
             ],
             [
              0.8888888888888888,
              "#fdca26"
             ],
             [
              1,
              "#f0f921"
             ]
            ],
            "type": "histogram2dcontour"
           }
          ],
          "mesh3d": [
           {
            "colorbar": {
             "outlinewidth": 0,
             "ticks": ""
            },
            "type": "mesh3d"
           }
          ],
          "parcoords": [
           {
            "line": {
             "colorbar": {
              "outlinewidth": 0,
              "ticks": ""
             }
            },
            "type": "parcoords"
           }
          ],
          "pie": [
           {
            "automargin": true,
            "type": "pie"
           }
          ],
          "scatter": [
           {
            "fillpattern": {
             "fillmode": "overlay",
             "size": 10,
             "solidity": 0.2
            },
            "type": "scatter"
           }
          ],
          "scatter3d": [
           {
            "line": {
             "colorbar": {
              "outlinewidth": 0,
              "ticks": ""
             }
            },
            "marker": {
             "colorbar": {
              "outlinewidth": 0,
              "ticks": ""
             }
            },
            "type": "scatter3d"
           }
          ],
          "scattercarpet": [
           {
            "marker": {
             "colorbar": {
              "outlinewidth": 0,
              "ticks": ""
             }
            },
            "type": "scattercarpet"
           }
          ],
          "scattergeo": [
           {
            "marker": {
             "colorbar": {
              "outlinewidth": 0,
              "ticks": ""
             }
            },
            "type": "scattergeo"
           }
          ],
          "scattergl": [
           {
            "marker": {
             "colorbar": {
              "outlinewidth": 0,
              "ticks": ""
             }
            },
            "type": "scattergl"
           }
          ],
          "scattermapbox": [
           {
            "marker": {
             "colorbar": {
              "outlinewidth": 0,
              "ticks": ""
             }
            },
            "type": "scattermapbox"
           }
          ],
          "scatterpolar": [
           {
            "marker": {
             "colorbar": {
              "outlinewidth": 0,
              "ticks": ""
             }
            },
            "type": "scatterpolar"
           }
          ],
          "scatterpolargl": [
           {
            "marker": {
             "colorbar": {
              "outlinewidth": 0,
              "ticks": ""
             }
            },
            "type": "scatterpolargl"
           }
          ],
          "scatterternary": [
           {
            "marker": {
             "colorbar": {
              "outlinewidth": 0,
              "ticks": ""
             }
            },
            "type": "scatterternary"
           }
          ],
          "surface": [
           {
            "colorbar": {
             "outlinewidth": 0,
             "ticks": ""
            },
            "colorscale": [
             [
              0,
              "#0d0887"
             ],
             [
              0.1111111111111111,
              "#46039f"
             ],
             [
              0.2222222222222222,
              "#7201a8"
             ],
             [
              0.3333333333333333,
              "#9c179e"
             ],
             [
              0.4444444444444444,
              "#bd3786"
             ],
             [
              0.5555555555555556,
              "#d8576b"
             ],
             [
              0.6666666666666666,
              "#ed7953"
             ],
             [
              0.7777777777777778,
              "#fb9f3a"
             ],
             [
              0.8888888888888888,
              "#fdca26"
             ],
             [
              1,
              "#f0f921"
             ]
            ],
            "type": "surface"
           }
          ],
          "table": [
           {
            "cells": {
             "fill": {
              "color": "#EBF0F8"
             },
             "line": {
              "color": "white"
             }
            },
            "header": {
             "fill": {
              "color": "#C8D4E3"
             },
             "line": {
              "color": "white"
             }
            },
            "type": "table"
           }
          ]
         },
         "layout": {
          "annotationdefaults": {
           "arrowcolor": "#2a3f5f",
           "arrowhead": 0,
           "arrowwidth": 1
          },
          "autotypenumbers": "strict",
          "coloraxis": {
           "colorbar": {
            "outlinewidth": 0,
            "ticks": ""
           }
          },
          "colorscale": {
           "diverging": [
            [
             0,
             "#8e0152"
            ],
            [
             0.1,
             "#c51b7d"
            ],
            [
             0.2,
             "#de77ae"
            ],
            [
             0.3,
             "#f1b6da"
            ],
            [
             0.4,
             "#fde0ef"
            ],
            [
             0.5,
             "#f7f7f7"
            ],
            [
             0.6,
             "#e6f5d0"
            ],
            [
             0.7,
             "#b8e186"
            ],
            [
             0.8,
             "#7fbc41"
            ],
            [
             0.9,
             "#4d9221"
            ],
            [
             1,
             "#276419"
            ]
           ],
           "sequential": [
            [
             0,
             "#0d0887"
            ],
            [
             0.1111111111111111,
             "#46039f"
            ],
            [
             0.2222222222222222,
             "#7201a8"
            ],
            [
             0.3333333333333333,
             "#9c179e"
            ],
            [
             0.4444444444444444,
             "#bd3786"
            ],
            [
             0.5555555555555556,
             "#d8576b"
            ],
            [
             0.6666666666666666,
             "#ed7953"
            ],
            [
             0.7777777777777778,
             "#fb9f3a"
            ],
            [
             0.8888888888888888,
             "#fdca26"
            ],
            [
             1,
             "#f0f921"
            ]
           ],
           "sequentialminus": [
            [
             0,
             "#0d0887"
            ],
            [
             0.1111111111111111,
             "#46039f"
            ],
            [
             0.2222222222222222,
             "#7201a8"
            ],
            [
             0.3333333333333333,
             "#9c179e"
            ],
            [
             0.4444444444444444,
             "#bd3786"
            ],
            [
             0.5555555555555556,
             "#d8576b"
            ],
            [
             0.6666666666666666,
             "#ed7953"
            ],
            [
             0.7777777777777778,
             "#fb9f3a"
            ],
            [
             0.8888888888888888,
             "#fdca26"
            ],
            [
             1,
             "#f0f921"
            ]
           ]
          },
          "colorway": [
           "#636efa",
           "#EF553B",
           "#00cc96",
           "#ab63fa",
           "#FFA15A",
           "#19d3f3",
           "#FF6692",
           "#B6E880",
           "#FF97FF",
           "#FECB52"
          ],
          "font": {
           "color": "#2a3f5f"
          },
          "geo": {
           "bgcolor": "white",
           "lakecolor": "white",
           "landcolor": "#E5ECF6",
           "showlakes": true,
           "showland": true,
           "subunitcolor": "white"
          },
          "hoverlabel": {
           "align": "left"
          },
          "hovermode": "closest",
          "mapbox": {
           "style": "light"
          },
          "paper_bgcolor": "white",
          "plot_bgcolor": "#E5ECF6",
          "polar": {
           "angularaxis": {
            "gridcolor": "white",
            "linecolor": "white",
            "ticks": ""
           },
           "bgcolor": "#E5ECF6",
           "radialaxis": {
            "gridcolor": "white",
            "linecolor": "white",
            "ticks": ""
           }
          },
          "scene": {
           "xaxis": {
            "backgroundcolor": "#E5ECF6",
            "gridcolor": "white",
            "gridwidth": 2,
            "linecolor": "white",
            "showbackground": true,
            "ticks": "",
            "zerolinecolor": "white"
           },
           "yaxis": {
            "backgroundcolor": "#E5ECF6",
            "gridcolor": "white",
            "gridwidth": 2,
            "linecolor": "white",
            "showbackground": true,
            "ticks": "",
            "zerolinecolor": "white"
           },
           "zaxis": {
            "backgroundcolor": "#E5ECF6",
            "gridcolor": "white",
            "gridwidth": 2,
            "linecolor": "white",
            "showbackground": true,
            "ticks": "",
            "zerolinecolor": "white"
           }
          },
          "shapedefaults": {
           "line": {
            "color": "#2a3f5f"
           }
          },
          "ternary": {
           "aaxis": {
            "gridcolor": "white",
            "linecolor": "white",
            "ticks": ""
           },
           "baxis": {
            "gridcolor": "white",
            "linecolor": "white",
            "ticks": ""
           },
           "bgcolor": "#E5ECF6",
           "caxis": {
            "gridcolor": "white",
            "linecolor": "white",
            "ticks": ""
           }
          },
          "title": {
           "x": 0.05
          },
          "xaxis": {
           "automargin": true,
           "gridcolor": "white",
           "linecolor": "white",
           "ticks": "",
           "title": {
            "standoff": 15
           },
           "zerolinecolor": "white",
           "zerolinewidth": 2
          },
          "yaxis": {
           "automargin": true,
           "gridcolor": "white",
           "linecolor": "white",
           "ticks": "",
           "title": {
            "standoff": 15
           },
           "zerolinecolor": "white",
           "zerolinewidth": 2
          }
         }
        },
        "title": {
         "text": "Generos dos meus 50 artistas mais ouvidos - Periodo longo x seis ultimos meses"
        },
        "xaxis": {
         "anchor": "y",
         "categoryorder": "total descending",
         "domain": [
          0,
          1
         ],
         "title": {
          "text": "Genero Primario"
         }
        },
        "yaxis": {
         "anchor": "x",
         "domain": [
          0,
          1
         ],
         "title": {
          "text": "Count"
         }
        }
       }
      }
     },
     "metadata": {},
     "output_type": "display_data"
    }
   ],
   "source": [
    "fig = px.bar(geral, \n",
    "      x=\"genero_primario\", \n",
    "      color=\"time_range\",\n",
    "      barmode=\"group\", \n",
    "      hover_data=[\"nome\", \"genero_principal\", \"genero_secundario\"],\n",
    "      labels={\"count\": \"Count\", \"genero_primario\": \"Genero Primario\"},\n",
    "      title=\"Generos dos meus 50 artistas mais ouvidos - Periodo longo x seis ultimos meses\")\n",
    "fig.update_layout(xaxis={\"categoryorder\": \"total descending\"})\n",
    "fig.show()"
   ]
  },
  {
   "attachments": {},
   "cell_type": "markdown",
   "metadata": {},
   "source": [
    "##### Quais as features das minhas musicas mais ouvidas e sua evolução?\n"
   ]
  },
  {
   "cell_type": "code",
   "execution_count": 94,
   "metadata": {},
   "outputs": [],
   "source": [
    "# features das minhas musicas mais ouvidas em um periodo de tempo\n",
    "def top_tracks(time_range, quant): \n",
    "    top_tracks = sp_tops.current_user_top_tracks(time_range=time_range, limit=quant)\n",
    "    ids = []\n",
    "    for item in top_tracks[\"items\"]:\n",
    "        ids.append(item[\"id\"])\n",
    "    features = sp.audio_features(tracks=ids)\n",
    "    tracks_df = pd.DataFrame()\n",
    "    tracks_df = tracks_df.append(features)\n",
    "    tracks_df[\"time_range\"] = time_range\n",
    "\n",
    "    return tracks_df"
   ]
  },
  {
   "cell_type": "code",
   "execution_count": 96,
   "metadata": {},
   "outputs": [],
   "source": [
    "long_term_tracks = top_tracks(\"long_term\", 50)\n",
    "medium_term_tracks = top_tracks(\"medium_term\", 50)\n",
    "\n",
    "geral_tracks = pd.concat([long_term_tracks, medium_term_tracks])"
   ]
  },
  {
   "cell_type": "code",
   "execution_count": 147,
   "metadata": {},
   "outputs": [
    {
     "data": {
      "application/vnd.plotly.v1+json": {
       "config": {
        "plotlyServerURL": "https://plot.ly"
       },
       "data": [
        {
         "alignmentgroup": "True",
         "bingroup": "x",
         "hovertemplate": "time_range=long_term<br>energy=%{x}<br>count=%{y}<extra></extra>",
         "legendgroup": "long_term",
         "marker": {
          "color": "#636efa",
          "pattern": {
           "shape": ""
          }
         },
         "name": "long_term",
         "offsetgroup": "long_term",
         "opacity": 0.5,
         "orientation": "v",
         "showlegend": true,
         "type": "histogram",
         "x": [
          0.532,
          0.68,
          0.616,
          0.453,
          0.454,
          0.653,
          0.484,
          0.747,
          0.681,
          0.594,
          0.93,
          0.747,
          0.824,
          0.966,
          0.722,
          0.57,
          0.526,
          0.533,
          0.787,
          0.933,
          0.42,
          0.885,
          0.451,
          0.92,
          0.875,
          0.735,
          0.599,
          0.986,
          0.661,
          0.603,
          0.663,
          0.852,
          0.957,
          0.571,
          0.699,
          0.631,
          0.731,
          0.797,
          0.675,
          0.701,
          0.867,
          0.547,
          0.793,
          0.611,
          0.608,
          0.539,
          0.754,
          0.414,
          0.88,
          0.598
         ],
         "xaxis": "x",
         "yaxis": "y"
        },
        {
         "alignmentgroup": "True",
         "hovertemplate": "time_range=long_term<br>energy=%{x}<extra></extra>",
         "legendgroup": "long_term",
         "marker": {
          "color": "#636efa"
         },
         "name": "long_term",
         "notched": true,
         "offsetgroup": "long_term",
         "opacity": 0.5,
         "showlegend": false,
         "type": "box",
         "x": [
          0.532,
          0.68,
          0.616,
          0.453,
          0.454,
          0.653,
          0.484,
          0.747,
          0.681,
          0.594,
          0.93,
          0.747,
          0.824,
          0.966,
          0.722,
          0.57,
          0.526,
          0.533,
          0.787,
          0.933,
          0.42,
          0.885,
          0.451,
          0.92,
          0.875,
          0.735,
          0.599,
          0.986,
          0.661,
          0.603,
          0.663,
          0.852,
          0.957,
          0.571,
          0.699,
          0.631,
          0.731,
          0.797,
          0.675,
          0.701,
          0.867,
          0.547,
          0.793,
          0.611,
          0.608,
          0.539,
          0.754,
          0.414,
          0.88,
          0.598
         ],
         "xaxis": "x2",
         "yaxis": "y2"
        },
        {
         "alignmentgroup": "True",
         "bingroup": "x",
         "hovertemplate": "time_range=medium_term<br>energy=%{x}<br>count=%{y}<extra></extra>",
         "legendgroup": "medium_term",
         "marker": {
          "color": "#EF553B",
          "pattern": {
           "shape": ""
          }
         },
         "name": "medium_term",
         "offsetgroup": "medium_term",
         "opacity": 0.5,
         "orientation": "v",
         "showlegend": true,
         "type": "histogram",
         "x": [
          0.532,
          0.747,
          0.93,
          0.824,
          0.57,
          0.594,
          0.885,
          0.451,
          0.966,
          0.599,
          0.852,
          0.631,
          0.747,
          0.571,
          0.608,
          0.559,
          0.933,
          0.625,
          0.6,
          0.88,
          0.761,
          0.808,
          0.681,
          0.454,
          0.874,
          0.533,
          0.795,
          0.911,
          0.92,
          0.616,
          0.905,
          0.797,
          0.638,
          0.712,
          0.576,
          0.619,
          0.484,
          0.912,
          0.664,
          0.839,
          0.653,
          0.603,
          0.925,
          0.869,
          0.781,
          0.675,
          0.872,
          0.661,
          0.722,
          0.957
         ],
         "xaxis": "x",
         "yaxis": "y"
        },
        {
         "alignmentgroup": "True",
         "hovertemplate": "time_range=medium_term<br>energy=%{x}<extra></extra>",
         "legendgroup": "medium_term",
         "marker": {
          "color": "#EF553B"
         },
         "name": "medium_term",
         "notched": true,
         "offsetgroup": "medium_term",
         "opacity": 0.5,
         "showlegend": false,
         "type": "box",
         "x": [
          0.532,
          0.747,
          0.93,
          0.824,
          0.57,
          0.594,
          0.885,
          0.451,
          0.966,
          0.599,
          0.852,
          0.631,
          0.747,
          0.571,
          0.608,
          0.559,
          0.933,
          0.625,
          0.6,
          0.88,
          0.761,
          0.808,
          0.681,
          0.454,
          0.874,
          0.533,
          0.795,
          0.911,
          0.92,
          0.616,
          0.905,
          0.797,
          0.638,
          0.712,
          0.576,
          0.619,
          0.484,
          0.912,
          0.664,
          0.839,
          0.653,
          0.603,
          0.925,
          0.869,
          0.781,
          0.675,
          0.872,
          0.661,
          0.722,
          0.957
         ],
         "xaxis": "x2",
         "yaxis": "y2"
        }
       ],
       "layout": {
        "barmode": "relative",
        "legend": {
         "title": {
          "text": "time_range"
         },
         "tracegroupgap": 0
        },
        "margin": {
         "t": 60
        },
        "template": {
         "data": {
          "bar": [
           {
            "error_x": {
             "color": "#2a3f5f"
            },
            "error_y": {
             "color": "#2a3f5f"
            },
            "marker": {
             "line": {
              "color": "#E5ECF6",
              "width": 0.5
             },
             "pattern": {
              "fillmode": "overlay",
              "size": 10,
              "solidity": 0.2
             }
            },
            "type": "bar"
           }
          ],
          "barpolar": [
           {
            "marker": {
             "line": {
              "color": "#E5ECF6",
              "width": 0.5
             },
             "pattern": {
              "fillmode": "overlay",
              "size": 10,
              "solidity": 0.2
             }
            },
            "type": "barpolar"
           }
          ],
          "carpet": [
           {
            "aaxis": {
             "endlinecolor": "#2a3f5f",
             "gridcolor": "white",
             "linecolor": "white",
             "minorgridcolor": "white",
             "startlinecolor": "#2a3f5f"
            },
            "baxis": {
             "endlinecolor": "#2a3f5f",
             "gridcolor": "white",
             "linecolor": "white",
             "minorgridcolor": "white",
             "startlinecolor": "#2a3f5f"
            },
            "type": "carpet"
           }
          ],
          "choropleth": [
           {
            "colorbar": {
             "outlinewidth": 0,
             "ticks": ""
            },
            "type": "choropleth"
           }
          ],
          "contour": [
           {
            "colorbar": {
             "outlinewidth": 0,
             "ticks": ""
            },
            "colorscale": [
             [
              0,
              "#0d0887"
             ],
             [
              0.1111111111111111,
              "#46039f"
             ],
             [
              0.2222222222222222,
              "#7201a8"
             ],
             [
              0.3333333333333333,
              "#9c179e"
             ],
             [
              0.4444444444444444,
              "#bd3786"
             ],
             [
              0.5555555555555556,
              "#d8576b"
             ],
             [
              0.6666666666666666,
              "#ed7953"
             ],
             [
              0.7777777777777778,
              "#fb9f3a"
             ],
             [
              0.8888888888888888,
              "#fdca26"
             ],
             [
              1,
              "#f0f921"
             ]
            ],
            "type": "contour"
           }
          ],
          "contourcarpet": [
           {
            "colorbar": {
             "outlinewidth": 0,
             "ticks": ""
            },
            "type": "contourcarpet"
           }
          ],
          "heatmap": [
           {
            "colorbar": {
             "outlinewidth": 0,
             "ticks": ""
            },
            "colorscale": [
             [
              0,
              "#0d0887"
             ],
             [
              0.1111111111111111,
              "#46039f"
             ],
             [
              0.2222222222222222,
              "#7201a8"
             ],
             [
              0.3333333333333333,
              "#9c179e"
             ],
             [
              0.4444444444444444,
              "#bd3786"
             ],
             [
              0.5555555555555556,
              "#d8576b"
             ],
             [
              0.6666666666666666,
              "#ed7953"
             ],
             [
              0.7777777777777778,
              "#fb9f3a"
             ],
             [
              0.8888888888888888,
              "#fdca26"
             ],
             [
              1,
              "#f0f921"
             ]
            ],
            "type": "heatmap"
           }
          ],
          "heatmapgl": [
           {
            "colorbar": {
             "outlinewidth": 0,
             "ticks": ""
            },
            "colorscale": [
             [
              0,
              "#0d0887"
             ],
             [
              0.1111111111111111,
              "#46039f"
             ],
             [
              0.2222222222222222,
              "#7201a8"
             ],
             [
              0.3333333333333333,
              "#9c179e"
             ],
             [
              0.4444444444444444,
              "#bd3786"
             ],
             [
              0.5555555555555556,
              "#d8576b"
             ],
             [
              0.6666666666666666,
              "#ed7953"
             ],
             [
              0.7777777777777778,
              "#fb9f3a"
             ],
             [
              0.8888888888888888,
              "#fdca26"
             ],
             [
              1,
              "#f0f921"
             ]
            ],
            "type": "heatmapgl"
           }
          ],
          "histogram": [
           {
            "marker": {
             "pattern": {
              "fillmode": "overlay",
              "size": 10,
              "solidity": 0.2
             }
            },
            "type": "histogram"
           }
          ],
          "histogram2d": [
           {
            "colorbar": {
             "outlinewidth": 0,
             "ticks": ""
            },
            "colorscale": [
             [
              0,
              "#0d0887"
             ],
             [
              0.1111111111111111,
              "#46039f"
             ],
             [
              0.2222222222222222,
              "#7201a8"
             ],
             [
              0.3333333333333333,
              "#9c179e"
             ],
             [
              0.4444444444444444,
              "#bd3786"
             ],
             [
              0.5555555555555556,
              "#d8576b"
             ],
             [
              0.6666666666666666,
              "#ed7953"
             ],
             [
              0.7777777777777778,
              "#fb9f3a"
             ],
             [
              0.8888888888888888,
              "#fdca26"
             ],
             [
              1,
              "#f0f921"
             ]
            ],
            "type": "histogram2d"
           }
          ],
          "histogram2dcontour": [
           {
            "colorbar": {
             "outlinewidth": 0,
             "ticks": ""
            },
            "colorscale": [
             [
              0,
              "#0d0887"
             ],
             [
              0.1111111111111111,
              "#46039f"
             ],
             [
              0.2222222222222222,
              "#7201a8"
             ],
             [
              0.3333333333333333,
              "#9c179e"
             ],
             [
              0.4444444444444444,
              "#bd3786"
             ],
             [
              0.5555555555555556,
              "#d8576b"
             ],
             [
              0.6666666666666666,
              "#ed7953"
             ],
             [
              0.7777777777777778,
              "#fb9f3a"
             ],
             [
              0.8888888888888888,
              "#fdca26"
             ],
             [
              1,
              "#f0f921"
             ]
            ],
            "type": "histogram2dcontour"
           }
          ],
          "mesh3d": [
           {
            "colorbar": {
             "outlinewidth": 0,
             "ticks": ""
            },
            "type": "mesh3d"
           }
          ],
          "parcoords": [
           {
            "line": {
             "colorbar": {
              "outlinewidth": 0,
              "ticks": ""
             }
            },
            "type": "parcoords"
           }
          ],
          "pie": [
           {
            "automargin": true,
            "type": "pie"
           }
          ],
          "scatter": [
           {
            "fillpattern": {
             "fillmode": "overlay",
             "size": 10,
             "solidity": 0.2
            },
            "type": "scatter"
           }
          ],
          "scatter3d": [
           {
            "line": {
             "colorbar": {
              "outlinewidth": 0,
              "ticks": ""
             }
            },
            "marker": {
             "colorbar": {
              "outlinewidth": 0,
              "ticks": ""
             }
            },
            "type": "scatter3d"
           }
          ],
          "scattercarpet": [
           {
            "marker": {
             "colorbar": {
              "outlinewidth": 0,
              "ticks": ""
             }
            },
            "type": "scattercarpet"
           }
          ],
          "scattergeo": [
           {
            "marker": {
             "colorbar": {
              "outlinewidth": 0,
              "ticks": ""
             }
            },
            "type": "scattergeo"
           }
          ],
          "scattergl": [
           {
            "marker": {
             "colorbar": {
              "outlinewidth": 0,
              "ticks": ""
             }
            },
            "type": "scattergl"
           }
          ],
          "scattermapbox": [
           {
            "marker": {
             "colorbar": {
              "outlinewidth": 0,
              "ticks": ""
             }
            },
            "type": "scattermapbox"
           }
          ],
          "scatterpolar": [
           {
            "marker": {
             "colorbar": {
              "outlinewidth": 0,
              "ticks": ""
             }
            },
            "type": "scatterpolar"
           }
          ],
          "scatterpolargl": [
           {
            "marker": {
             "colorbar": {
              "outlinewidth": 0,
              "ticks": ""
             }
            },
            "type": "scatterpolargl"
           }
          ],
          "scatterternary": [
           {
            "marker": {
             "colorbar": {
              "outlinewidth": 0,
              "ticks": ""
             }
            },
            "type": "scatterternary"
           }
          ],
          "surface": [
           {
            "colorbar": {
             "outlinewidth": 0,
             "ticks": ""
            },
            "colorscale": [
             [
              0,
              "#0d0887"
             ],
             [
              0.1111111111111111,
              "#46039f"
             ],
             [
              0.2222222222222222,
              "#7201a8"
             ],
             [
              0.3333333333333333,
              "#9c179e"
             ],
             [
              0.4444444444444444,
              "#bd3786"
             ],
             [
              0.5555555555555556,
              "#d8576b"
             ],
             [
              0.6666666666666666,
              "#ed7953"
             ],
             [
              0.7777777777777778,
              "#fb9f3a"
             ],
             [
              0.8888888888888888,
              "#fdca26"
             ],
             [
              1,
              "#f0f921"
             ]
            ],
            "type": "surface"
           }
          ],
          "table": [
           {
            "cells": {
             "fill": {
              "color": "#EBF0F8"
             },
             "line": {
              "color": "white"
             }
            },
            "header": {
             "fill": {
              "color": "#C8D4E3"
             },
             "line": {
              "color": "white"
             }
            },
            "type": "table"
           }
          ]
         },
         "layout": {
          "annotationdefaults": {
           "arrowcolor": "#2a3f5f",
           "arrowhead": 0,
           "arrowwidth": 1
          },
          "autotypenumbers": "strict",
          "coloraxis": {
           "colorbar": {
            "outlinewidth": 0,
            "ticks": ""
           }
          },
          "colorscale": {
           "diverging": [
            [
             0,
             "#8e0152"
            ],
            [
             0.1,
             "#c51b7d"
            ],
            [
             0.2,
             "#de77ae"
            ],
            [
             0.3,
             "#f1b6da"
            ],
            [
             0.4,
             "#fde0ef"
            ],
            [
             0.5,
             "#f7f7f7"
            ],
            [
             0.6,
             "#e6f5d0"
            ],
            [
             0.7,
             "#b8e186"
            ],
            [
             0.8,
             "#7fbc41"
            ],
            [
             0.9,
             "#4d9221"
            ],
            [
             1,
             "#276419"
            ]
           ],
           "sequential": [
            [
             0,
             "#0d0887"
            ],
            [
             0.1111111111111111,
             "#46039f"
            ],
            [
             0.2222222222222222,
             "#7201a8"
            ],
            [
             0.3333333333333333,
             "#9c179e"
            ],
            [
             0.4444444444444444,
             "#bd3786"
            ],
            [
             0.5555555555555556,
             "#d8576b"
            ],
            [
             0.6666666666666666,
             "#ed7953"
            ],
            [
             0.7777777777777778,
             "#fb9f3a"
            ],
            [
             0.8888888888888888,
             "#fdca26"
            ],
            [
             1,
             "#f0f921"
            ]
           ],
           "sequentialminus": [
            [
             0,
             "#0d0887"
            ],
            [
             0.1111111111111111,
             "#46039f"
            ],
            [
             0.2222222222222222,
             "#7201a8"
            ],
            [
             0.3333333333333333,
             "#9c179e"
            ],
            [
             0.4444444444444444,
             "#bd3786"
            ],
            [
             0.5555555555555556,
             "#d8576b"
            ],
            [
             0.6666666666666666,
             "#ed7953"
            ],
            [
             0.7777777777777778,
             "#fb9f3a"
            ],
            [
             0.8888888888888888,
             "#fdca26"
            ],
            [
             1,
             "#f0f921"
            ]
           ]
          },
          "colorway": [
           "#636efa",
           "#EF553B",
           "#00cc96",
           "#ab63fa",
           "#FFA15A",
           "#19d3f3",
           "#FF6692",
           "#B6E880",
           "#FF97FF",
           "#FECB52"
          ],
          "font": {
           "color": "#2a3f5f"
          },
          "geo": {
           "bgcolor": "white",
           "lakecolor": "white",
           "landcolor": "#E5ECF6",
           "showlakes": true,
           "showland": true,
           "subunitcolor": "white"
          },
          "hoverlabel": {
           "align": "left"
          },
          "hovermode": "closest",
          "mapbox": {
           "style": "light"
          },
          "paper_bgcolor": "white",
          "plot_bgcolor": "#E5ECF6",
          "polar": {
           "angularaxis": {
            "gridcolor": "white",
            "linecolor": "white",
            "ticks": ""
           },
           "bgcolor": "#E5ECF6",
           "radialaxis": {
            "gridcolor": "white",
            "linecolor": "white",
            "ticks": ""
           }
          },
          "scene": {
           "xaxis": {
            "backgroundcolor": "#E5ECF6",
            "gridcolor": "white",
            "gridwidth": 2,
            "linecolor": "white",
            "showbackground": true,
            "ticks": "",
            "zerolinecolor": "white"
           },
           "yaxis": {
            "backgroundcolor": "#E5ECF6",
            "gridcolor": "white",
            "gridwidth": 2,
            "linecolor": "white",
            "showbackground": true,
            "ticks": "",
            "zerolinecolor": "white"
           },
           "zaxis": {
            "backgroundcolor": "#E5ECF6",
            "gridcolor": "white",
            "gridwidth": 2,
            "linecolor": "white",
            "showbackground": true,
            "ticks": "",
            "zerolinecolor": "white"
           }
          },
          "shapedefaults": {
           "line": {
            "color": "#2a3f5f"
           }
          },
          "ternary": {
           "aaxis": {
            "gridcolor": "white",
            "linecolor": "white",
            "ticks": ""
           },
           "baxis": {
            "gridcolor": "white",
            "linecolor": "white",
            "ticks": ""
           },
           "bgcolor": "#E5ECF6",
           "caxis": {
            "gridcolor": "white",
            "linecolor": "white",
            "ticks": ""
           }
          },
          "title": {
           "x": 0.05
          },
          "xaxis": {
           "automargin": true,
           "gridcolor": "white",
           "linecolor": "white",
           "ticks": "",
           "title": {
            "standoff": 15
           },
           "zerolinecolor": "white",
           "zerolinewidth": 2
          },
          "yaxis": {
           "automargin": true,
           "gridcolor": "white",
           "linecolor": "white",
           "ticks": "",
           "title": {
            "standoff": 15
           },
           "zerolinecolor": "white",
           "zerolinewidth": 2
          }
         }
        },
        "xaxis": {
         "anchor": "y",
         "domain": [
          0,
          1
         ],
         "title": {
          "text": "energy"
         }
        },
        "xaxis2": {
         "anchor": "y2",
         "domain": [
          0,
          1
         ],
         "matches": "x",
         "showgrid": true,
         "showticklabels": false
        },
        "yaxis": {
         "anchor": "x",
         "domain": [
          0,
          0.7326
         ],
         "title": {
          "text": "count"
         }
        },
        "yaxis2": {
         "anchor": "x2",
         "domain": [
          0.7426,
          1
         ],
         "matches": "y2",
         "showgrid": false,
         "showline": false,
         "showticklabels": false,
         "ticks": ""
        }
       }
      }
     },
     "metadata": {},
     "output_type": "display_data"
    },
    {
     "data": {
      "application/vnd.plotly.v1+json": {
       "config": {
        "plotlyServerURL": "https://plot.ly"
       },
       "data": [
        {
         "alignmentgroup": "True",
         "bingroup": "x",
         "hovertemplate": "time_range=long_term<br>instrumentalness=%{x}<br>count=%{y}<extra></extra>",
         "legendgroup": "long_term",
         "marker": {
          "color": "#636efa",
          "pattern": {
           "shape": ""
          }
         },
         "name": "long_term",
         "offsetgroup": "long_term",
         "opacity": 0.5,
         "orientation": "v",
         "showlegend": true,
         "type": "histogram",
         "x": [
          0.000263,
          0,
          0,
          0.33,
          0.00000419,
          0,
          0.0129,
          0,
          0,
          0,
          0,
          0.0468,
          0,
          0.0000406,
          0.0000103,
          0,
          0,
          0.731,
          0,
          0,
          0,
          0,
          0.00503,
          0,
          0.0086,
          0,
          0,
          0,
          0,
          0.0000756,
          0.00000698,
          0,
          0.0000322,
          0,
          0.0000036,
          0.0000113,
          0.00000345,
          0,
          0,
          0.00000174,
          0,
          0,
          0,
          0,
          0.0000766,
          0.005,
          0,
          0,
          0.00211,
          0
         ],
         "xaxis": "x",
         "yaxis": "y"
        },
        {
         "alignmentgroup": "True",
         "hovertemplate": "time_range=long_term<br>instrumentalness=%{x}<extra></extra>",
         "legendgroup": "long_term",
         "marker": {
          "color": "#636efa"
         },
         "name": "long_term",
         "notched": true,
         "offsetgroup": "long_term",
         "opacity": 0.5,
         "showlegend": false,
         "type": "box",
         "x": [
          0.000263,
          0,
          0,
          0.33,
          0.00000419,
          0,
          0.0129,
          0,
          0,
          0,
          0,
          0.0468,
          0,
          0.0000406,
          0.0000103,
          0,
          0,
          0.731,
          0,
          0,
          0,
          0,
          0.00503,
          0,
          0.0086,
          0,
          0,
          0,
          0,
          0.0000756,
          0.00000698,
          0,
          0.0000322,
          0,
          0.0000036,
          0.0000113,
          0.00000345,
          0,
          0,
          0.00000174,
          0,
          0,
          0,
          0,
          0.0000766,
          0.005,
          0,
          0,
          0.00211,
          0
         ],
         "xaxis": "x2",
         "yaxis": "y2"
        },
        {
         "alignmentgroup": "True",
         "bingroup": "x",
         "hovertemplate": "time_range=medium_term<br>instrumentalness=%{x}<br>count=%{y}<extra></extra>",
         "legendgroup": "medium_term",
         "marker": {
          "color": "#EF553B",
          "pattern": {
           "shape": ""
          }
         },
         "name": "medium_term",
         "offsetgroup": "medium_term",
         "opacity": 0.5,
         "orientation": "v",
         "showlegend": true,
         "type": "histogram",
         "x": [
          0.000263,
          0,
          0,
          0,
          0,
          0,
          0,
          0.00503,
          0.0000406,
          0,
          0,
          0.0000113,
          0.0468,
          0,
          0.0000766,
          0,
          0,
          0,
          0.00569,
          0.00211,
          0.00000496,
          0,
          0,
          0.00000419,
          0.0000102,
          0.731,
          0,
          0.00178,
          0,
          0,
          0.0104,
          0,
          0,
          0.0887,
          0,
          0.00661,
          0.0129,
          0.000173,
          0,
          0,
          0,
          0.0000756,
          0,
          0.000987,
          0.0000125,
          0,
          0.00975,
          0,
          0.0000103,
          0.0000322
         ],
         "xaxis": "x",
         "yaxis": "y"
        },
        {
         "alignmentgroup": "True",
         "hovertemplate": "time_range=medium_term<br>instrumentalness=%{x}<extra></extra>",
         "legendgroup": "medium_term",
         "marker": {
          "color": "#EF553B"
         },
         "name": "medium_term",
         "notched": true,
         "offsetgroup": "medium_term",
         "opacity": 0.5,
         "showlegend": false,
         "type": "box",
         "x": [
          0.000263,
          0,
          0,
          0,
          0,
          0,
          0,
          0.00503,
          0.0000406,
          0,
          0,
          0.0000113,
          0.0468,
          0,
          0.0000766,
          0,
          0,
          0,
          0.00569,
          0.00211,
          0.00000496,
          0,
          0,
          0.00000419,
          0.0000102,
          0.731,
          0,
          0.00178,
          0,
          0,
          0.0104,
          0,
          0,
          0.0887,
          0,
          0.00661,
          0.0129,
          0.000173,
          0,
          0,
          0,
          0.0000756,
          0,
          0.000987,
          0.0000125,
          0,
          0.00975,
          0,
          0.0000103,
          0.0000322
         ],
         "xaxis": "x2",
         "yaxis": "y2"
        }
       ],
       "layout": {
        "barmode": "relative",
        "legend": {
         "title": {
          "text": "time_range"
         },
         "tracegroupgap": 0
        },
        "margin": {
         "t": 60
        },
        "template": {
         "data": {
          "bar": [
           {
            "error_x": {
             "color": "#2a3f5f"
            },
            "error_y": {
             "color": "#2a3f5f"
            },
            "marker": {
             "line": {
              "color": "#E5ECF6",
              "width": 0.5
             },
             "pattern": {
              "fillmode": "overlay",
              "size": 10,
              "solidity": 0.2
             }
            },
            "type": "bar"
           }
          ],
          "barpolar": [
           {
            "marker": {
             "line": {
              "color": "#E5ECF6",
              "width": 0.5
             },
             "pattern": {
              "fillmode": "overlay",
              "size": 10,
              "solidity": 0.2
             }
            },
            "type": "barpolar"
           }
          ],
          "carpet": [
           {
            "aaxis": {
             "endlinecolor": "#2a3f5f",
             "gridcolor": "white",
             "linecolor": "white",
             "minorgridcolor": "white",
             "startlinecolor": "#2a3f5f"
            },
            "baxis": {
             "endlinecolor": "#2a3f5f",
             "gridcolor": "white",
             "linecolor": "white",
             "minorgridcolor": "white",
             "startlinecolor": "#2a3f5f"
            },
            "type": "carpet"
           }
          ],
          "choropleth": [
           {
            "colorbar": {
             "outlinewidth": 0,
             "ticks": ""
            },
            "type": "choropleth"
           }
          ],
          "contour": [
           {
            "colorbar": {
             "outlinewidth": 0,
             "ticks": ""
            },
            "colorscale": [
             [
              0,
              "#0d0887"
             ],
             [
              0.1111111111111111,
              "#46039f"
             ],
             [
              0.2222222222222222,
              "#7201a8"
             ],
             [
              0.3333333333333333,
              "#9c179e"
             ],
             [
              0.4444444444444444,
              "#bd3786"
             ],
             [
              0.5555555555555556,
              "#d8576b"
             ],
             [
              0.6666666666666666,
              "#ed7953"
             ],
             [
              0.7777777777777778,
              "#fb9f3a"
             ],
             [
              0.8888888888888888,
              "#fdca26"
             ],
             [
              1,
              "#f0f921"
             ]
            ],
            "type": "contour"
           }
          ],
          "contourcarpet": [
           {
            "colorbar": {
             "outlinewidth": 0,
             "ticks": ""
            },
            "type": "contourcarpet"
           }
          ],
          "heatmap": [
           {
            "colorbar": {
             "outlinewidth": 0,
             "ticks": ""
            },
            "colorscale": [
             [
              0,
              "#0d0887"
             ],
             [
              0.1111111111111111,
              "#46039f"
             ],
             [
              0.2222222222222222,
              "#7201a8"
             ],
             [
              0.3333333333333333,
              "#9c179e"
             ],
             [
              0.4444444444444444,
              "#bd3786"
             ],
             [
              0.5555555555555556,
              "#d8576b"
             ],
             [
              0.6666666666666666,
              "#ed7953"
             ],
             [
              0.7777777777777778,
              "#fb9f3a"
             ],
             [
              0.8888888888888888,
              "#fdca26"
             ],
             [
              1,
              "#f0f921"
             ]
            ],
            "type": "heatmap"
           }
          ],
          "heatmapgl": [
           {
            "colorbar": {
             "outlinewidth": 0,
             "ticks": ""
            },
            "colorscale": [
             [
              0,
              "#0d0887"
             ],
             [
              0.1111111111111111,
              "#46039f"
             ],
             [
              0.2222222222222222,
              "#7201a8"
             ],
             [
              0.3333333333333333,
              "#9c179e"
             ],
             [
              0.4444444444444444,
              "#bd3786"
             ],
             [
              0.5555555555555556,
              "#d8576b"
             ],
             [
              0.6666666666666666,
              "#ed7953"
             ],
             [
              0.7777777777777778,
              "#fb9f3a"
             ],
             [
              0.8888888888888888,
              "#fdca26"
             ],
             [
              1,
              "#f0f921"
             ]
            ],
            "type": "heatmapgl"
           }
          ],
          "histogram": [
           {
            "marker": {
             "pattern": {
              "fillmode": "overlay",
              "size": 10,
              "solidity": 0.2
             }
            },
            "type": "histogram"
           }
          ],
          "histogram2d": [
           {
            "colorbar": {
             "outlinewidth": 0,
             "ticks": ""
            },
            "colorscale": [
             [
              0,
              "#0d0887"
             ],
             [
              0.1111111111111111,
              "#46039f"
             ],
             [
              0.2222222222222222,
              "#7201a8"
             ],
             [
              0.3333333333333333,
              "#9c179e"
             ],
             [
              0.4444444444444444,
              "#bd3786"
             ],
             [
              0.5555555555555556,
              "#d8576b"
             ],
             [
              0.6666666666666666,
              "#ed7953"
             ],
             [
              0.7777777777777778,
              "#fb9f3a"
             ],
             [
              0.8888888888888888,
              "#fdca26"
             ],
             [
              1,
              "#f0f921"
             ]
            ],
            "type": "histogram2d"
           }
          ],
          "histogram2dcontour": [
           {
            "colorbar": {
             "outlinewidth": 0,
             "ticks": ""
            },
            "colorscale": [
             [
              0,
              "#0d0887"
             ],
             [
              0.1111111111111111,
              "#46039f"
             ],
             [
              0.2222222222222222,
              "#7201a8"
             ],
             [
              0.3333333333333333,
              "#9c179e"
             ],
             [
              0.4444444444444444,
              "#bd3786"
             ],
             [
              0.5555555555555556,
              "#d8576b"
             ],
             [
              0.6666666666666666,
              "#ed7953"
             ],
             [
              0.7777777777777778,
              "#fb9f3a"
             ],
             [
              0.8888888888888888,
              "#fdca26"
             ],
             [
              1,
              "#f0f921"
             ]
            ],
            "type": "histogram2dcontour"
           }
          ],
          "mesh3d": [
           {
            "colorbar": {
             "outlinewidth": 0,
             "ticks": ""
            },
            "type": "mesh3d"
           }
          ],
          "parcoords": [
           {
            "line": {
             "colorbar": {
              "outlinewidth": 0,
              "ticks": ""
             }
            },
            "type": "parcoords"
           }
          ],
          "pie": [
           {
            "automargin": true,
            "type": "pie"
           }
          ],
          "scatter": [
           {
            "fillpattern": {
             "fillmode": "overlay",
             "size": 10,
             "solidity": 0.2
            },
            "type": "scatter"
           }
          ],
          "scatter3d": [
           {
            "line": {
             "colorbar": {
              "outlinewidth": 0,
              "ticks": ""
             }
            },
            "marker": {
             "colorbar": {
              "outlinewidth": 0,
              "ticks": ""
             }
            },
            "type": "scatter3d"
           }
          ],
          "scattercarpet": [
           {
            "marker": {
             "colorbar": {
              "outlinewidth": 0,
              "ticks": ""
             }
            },
            "type": "scattercarpet"
           }
          ],
          "scattergeo": [
           {
            "marker": {
             "colorbar": {
              "outlinewidth": 0,
              "ticks": ""
             }
            },
            "type": "scattergeo"
           }
          ],
          "scattergl": [
           {
            "marker": {
             "colorbar": {
              "outlinewidth": 0,
              "ticks": ""
             }
            },
            "type": "scattergl"
           }
          ],
          "scattermapbox": [
           {
            "marker": {
             "colorbar": {
              "outlinewidth": 0,
              "ticks": ""
             }
            },
            "type": "scattermapbox"
           }
          ],
          "scatterpolar": [
           {
            "marker": {
             "colorbar": {
              "outlinewidth": 0,
              "ticks": ""
             }
            },
            "type": "scatterpolar"
           }
          ],
          "scatterpolargl": [
           {
            "marker": {
             "colorbar": {
              "outlinewidth": 0,
              "ticks": ""
             }
            },
            "type": "scatterpolargl"
           }
          ],
          "scatterternary": [
           {
            "marker": {
             "colorbar": {
              "outlinewidth": 0,
              "ticks": ""
             }
            },
            "type": "scatterternary"
           }
          ],
          "surface": [
           {
            "colorbar": {
             "outlinewidth": 0,
             "ticks": ""
            },
            "colorscale": [
             [
              0,
              "#0d0887"
             ],
             [
              0.1111111111111111,
              "#46039f"
             ],
             [
              0.2222222222222222,
              "#7201a8"
             ],
             [
              0.3333333333333333,
              "#9c179e"
             ],
             [
              0.4444444444444444,
              "#bd3786"
             ],
             [
              0.5555555555555556,
              "#d8576b"
             ],
             [
              0.6666666666666666,
              "#ed7953"
             ],
             [
              0.7777777777777778,
              "#fb9f3a"
             ],
             [
              0.8888888888888888,
              "#fdca26"
             ],
             [
              1,
              "#f0f921"
             ]
            ],
            "type": "surface"
           }
          ],
          "table": [
           {
            "cells": {
             "fill": {
              "color": "#EBF0F8"
             },
             "line": {
              "color": "white"
             }
            },
            "header": {
             "fill": {
              "color": "#C8D4E3"
             },
             "line": {
              "color": "white"
             }
            },
            "type": "table"
           }
          ]
         },
         "layout": {
          "annotationdefaults": {
           "arrowcolor": "#2a3f5f",
           "arrowhead": 0,
           "arrowwidth": 1
          },
          "autotypenumbers": "strict",
          "coloraxis": {
           "colorbar": {
            "outlinewidth": 0,
            "ticks": ""
           }
          },
          "colorscale": {
           "diverging": [
            [
             0,
             "#8e0152"
            ],
            [
             0.1,
             "#c51b7d"
            ],
            [
             0.2,
             "#de77ae"
            ],
            [
             0.3,
             "#f1b6da"
            ],
            [
             0.4,
             "#fde0ef"
            ],
            [
             0.5,
             "#f7f7f7"
            ],
            [
             0.6,
             "#e6f5d0"
            ],
            [
             0.7,
             "#b8e186"
            ],
            [
             0.8,
             "#7fbc41"
            ],
            [
             0.9,
             "#4d9221"
            ],
            [
             1,
             "#276419"
            ]
           ],
           "sequential": [
            [
             0,
             "#0d0887"
            ],
            [
             0.1111111111111111,
             "#46039f"
            ],
            [
             0.2222222222222222,
             "#7201a8"
            ],
            [
             0.3333333333333333,
             "#9c179e"
            ],
            [
             0.4444444444444444,
             "#bd3786"
            ],
            [
             0.5555555555555556,
             "#d8576b"
            ],
            [
             0.6666666666666666,
             "#ed7953"
            ],
            [
             0.7777777777777778,
             "#fb9f3a"
            ],
            [
             0.8888888888888888,
             "#fdca26"
            ],
            [
             1,
             "#f0f921"
            ]
           ],
           "sequentialminus": [
            [
             0,
             "#0d0887"
            ],
            [
             0.1111111111111111,
             "#46039f"
            ],
            [
             0.2222222222222222,
             "#7201a8"
            ],
            [
             0.3333333333333333,
             "#9c179e"
            ],
            [
             0.4444444444444444,
             "#bd3786"
            ],
            [
             0.5555555555555556,
             "#d8576b"
            ],
            [
             0.6666666666666666,
             "#ed7953"
            ],
            [
             0.7777777777777778,
             "#fb9f3a"
            ],
            [
             0.8888888888888888,
             "#fdca26"
            ],
            [
             1,
             "#f0f921"
            ]
           ]
          },
          "colorway": [
           "#636efa",
           "#EF553B",
           "#00cc96",
           "#ab63fa",
           "#FFA15A",
           "#19d3f3",
           "#FF6692",
           "#B6E880",
           "#FF97FF",
           "#FECB52"
          ],
          "font": {
           "color": "#2a3f5f"
          },
          "geo": {
           "bgcolor": "white",
           "lakecolor": "white",
           "landcolor": "#E5ECF6",
           "showlakes": true,
           "showland": true,
           "subunitcolor": "white"
          },
          "hoverlabel": {
           "align": "left"
          },
          "hovermode": "closest",
          "mapbox": {
           "style": "light"
          },
          "paper_bgcolor": "white",
          "plot_bgcolor": "#E5ECF6",
          "polar": {
           "angularaxis": {
            "gridcolor": "white",
            "linecolor": "white",
            "ticks": ""
           },
           "bgcolor": "#E5ECF6",
           "radialaxis": {
            "gridcolor": "white",
            "linecolor": "white",
            "ticks": ""
           }
          },
          "scene": {
           "xaxis": {
            "backgroundcolor": "#E5ECF6",
            "gridcolor": "white",
            "gridwidth": 2,
            "linecolor": "white",
            "showbackground": true,
            "ticks": "",
            "zerolinecolor": "white"
           },
           "yaxis": {
            "backgroundcolor": "#E5ECF6",
            "gridcolor": "white",
            "gridwidth": 2,
            "linecolor": "white",
            "showbackground": true,
            "ticks": "",
            "zerolinecolor": "white"
           },
           "zaxis": {
            "backgroundcolor": "#E5ECF6",
            "gridcolor": "white",
            "gridwidth": 2,
            "linecolor": "white",
            "showbackground": true,
            "ticks": "",
            "zerolinecolor": "white"
           }
          },
          "shapedefaults": {
           "line": {
            "color": "#2a3f5f"
           }
          },
          "ternary": {
           "aaxis": {
            "gridcolor": "white",
            "linecolor": "white",
            "ticks": ""
           },
           "baxis": {
            "gridcolor": "white",
            "linecolor": "white",
            "ticks": ""
           },
           "bgcolor": "#E5ECF6",
           "caxis": {
            "gridcolor": "white",
            "linecolor": "white",
            "ticks": ""
           }
          },
          "title": {
           "x": 0.05
          },
          "xaxis": {
           "automargin": true,
           "gridcolor": "white",
           "linecolor": "white",
           "ticks": "",
           "title": {
            "standoff": 15
           },
           "zerolinecolor": "white",
           "zerolinewidth": 2
          },
          "yaxis": {
           "automargin": true,
           "gridcolor": "white",
           "linecolor": "white",
           "ticks": "",
           "title": {
            "standoff": 15
           },
           "zerolinecolor": "white",
           "zerolinewidth": 2
          }
         }
        },
        "xaxis": {
         "anchor": "y",
         "domain": [
          0,
          1
         ],
         "title": {
          "text": "instrumentalness"
         }
        },
        "xaxis2": {
         "anchor": "y2",
         "domain": [
          0,
          1
         ],
         "matches": "x",
         "showgrid": true,
         "showticklabels": false
        },
        "yaxis": {
         "anchor": "x",
         "domain": [
          0,
          0.7326
         ],
         "title": {
          "text": "count"
         }
        },
        "yaxis2": {
         "anchor": "x2",
         "domain": [
          0.7426,
          1
         ],
         "matches": "y2",
         "showgrid": false,
         "showline": false,
         "showticklabels": false,
         "ticks": ""
        }
       }
      }
     },
     "metadata": {},
     "output_type": "display_data"
    },
    {
     "data": {
      "application/vnd.plotly.v1+json": {
       "config": {
        "plotlyServerURL": "https://plot.ly"
       },
       "data": [
        {
         "alignmentgroup": "True",
         "bingroup": "x",
         "hovertemplate": "time_range=long_term<br>loudness=%{x}<br>count=%{y}<extra></extra>",
         "legendgroup": "long_term",
         "marker": {
          "color": "#636efa",
          "pattern": {
           "shape": ""
          }
         },
         "name": "long_term",
         "offsetgroup": "long_term",
         "opacity": 0.5,
         "orientation": "v",
         "showlegend": true,
         "type": "histogram",
         "x": [
          -7.596,
          -7.648,
          -2.609,
          -11.265,
          -3.533,
          -5.873,
          -9.254,
          -6.567,
          -4.88,
          -8.306,
          -2.689,
          -5.545,
          -4.758,
          -3.097,
          -6.571,
          -5.149,
          -6.307,
          -10.317,
          -3.712,
          -2.294,
          -9.174,
          -4.593,
          -7.539,
          -4.802,
          -4.845,
          -4.623,
          -5.41,
          -2.796,
          -5.592,
          -9.557,
          -5.766,
          -3.804,
          -3.702,
          -7.906,
          -5.982,
          -6.478,
          -6.298,
          -5.188,
          -5.134,
          -4.176,
          -3.586,
          -8.151,
          -4.254,
          -6.587,
          -6.096,
          -8.968,
          -6.714,
          -8.16,
          -5.122,
          -5.694
         ],
         "xaxis": "x",
         "yaxis": "y"
        },
        {
         "alignmentgroup": "True",
         "hovertemplate": "time_range=long_term<br>loudness=%{x}<extra></extra>",
         "legendgroup": "long_term",
         "marker": {
          "color": "#636efa"
         },
         "name": "long_term",
         "notched": true,
         "offsetgroup": "long_term",
         "opacity": 0.5,
         "showlegend": false,
         "type": "box",
         "x": [
          -7.596,
          -7.648,
          -2.609,
          -11.265,
          -3.533,
          -5.873,
          -9.254,
          -6.567,
          -4.88,
          -8.306,
          -2.689,
          -5.545,
          -4.758,
          -3.097,
          -6.571,
          -5.149,
          -6.307,
          -10.317,
          -3.712,
          -2.294,
          -9.174,
          -4.593,
          -7.539,
          -4.802,
          -4.845,
          -4.623,
          -5.41,
          -2.796,
          -5.592,
          -9.557,
          -5.766,
          -3.804,
          -3.702,
          -7.906,
          -5.982,
          -6.478,
          -6.298,
          -5.188,
          -5.134,
          -4.176,
          -3.586,
          -8.151,
          -4.254,
          -6.587,
          -6.096,
          -8.968,
          -6.714,
          -8.16,
          -5.122,
          -5.694
         ],
         "xaxis": "x2",
         "yaxis": "y2"
        },
        {
         "alignmentgroup": "True",
         "bingroup": "x",
         "hovertemplate": "time_range=medium_term<br>loudness=%{x}<br>count=%{y}<extra></extra>",
         "legendgroup": "medium_term",
         "marker": {
          "color": "#EF553B",
          "pattern": {
           "shape": ""
          }
         },
         "name": "medium_term",
         "offsetgroup": "medium_term",
         "opacity": 0.5,
         "orientation": "v",
         "showlegend": true,
         "type": "histogram",
         "x": [
          -7.596,
          -6.567,
          -2.689,
          -4.758,
          -5.149,
          -8.306,
          -4.593,
          -7.539,
          -3.097,
          -5.41,
          -3.804,
          -6.478,
          -5.545,
          -7.906,
          -6.096,
          -7.106,
          -2.294,
          -2.253,
          -6.662,
          -5.122,
          -3.093,
          -6.209,
          -4.88,
          -3.533,
          -4.046,
          -10.317,
          -5.355,
          -2.741,
          -4.802,
          -2.609,
          -5.653,
          -5.188,
          -7.215,
          -5.667,
          -7.046,
          -3.765,
          -9.254,
          -4.556,
          -4.506,
          -4.257,
          -5.873,
          -9.557,
          -4.341,
          -4.284,
          -4.345,
          -5.637,
          -7.837,
          -5.592,
          -6.571,
          -3.702
         ],
         "xaxis": "x",
         "yaxis": "y"
        },
        {
         "alignmentgroup": "True",
         "hovertemplate": "time_range=medium_term<br>loudness=%{x}<extra></extra>",
         "legendgroup": "medium_term",
         "marker": {
          "color": "#EF553B"
         },
         "name": "medium_term",
         "notched": true,
         "offsetgroup": "medium_term",
         "opacity": 0.5,
         "showlegend": false,
         "type": "box",
         "x": [
          -7.596,
          -6.567,
          -2.689,
          -4.758,
          -5.149,
          -8.306,
          -4.593,
          -7.539,
          -3.097,
          -5.41,
          -3.804,
          -6.478,
          -5.545,
          -7.906,
          -6.096,
          -7.106,
          -2.294,
          -2.253,
          -6.662,
          -5.122,
          -3.093,
          -6.209,
          -4.88,
          -3.533,
          -4.046,
          -10.317,
          -5.355,
          -2.741,
          -4.802,
          -2.609,
          -5.653,
          -5.188,
          -7.215,
          -5.667,
          -7.046,
          -3.765,
          -9.254,
          -4.556,
          -4.506,
          -4.257,
          -5.873,
          -9.557,
          -4.341,
          -4.284,
          -4.345,
          -5.637,
          -7.837,
          -5.592,
          -6.571,
          -3.702
         ],
         "xaxis": "x2",
         "yaxis": "y2"
        }
       ],
       "layout": {
        "barmode": "relative",
        "legend": {
         "title": {
          "text": "time_range"
         },
         "tracegroupgap": 0
        },
        "margin": {
         "t": 60
        },
        "template": {
         "data": {
          "bar": [
           {
            "error_x": {
             "color": "#2a3f5f"
            },
            "error_y": {
             "color": "#2a3f5f"
            },
            "marker": {
             "line": {
              "color": "#E5ECF6",
              "width": 0.5
             },
             "pattern": {
              "fillmode": "overlay",
              "size": 10,
              "solidity": 0.2
             }
            },
            "type": "bar"
           }
          ],
          "barpolar": [
           {
            "marker": {
             "line": {
              "color": "#E5ECF6",
              "width": 0.5
             },
             "pattern": {
              "fillmode": "overlay",
              "size": 10,
              "solidity": 0.2
             }
            },
            "type": "barpolar"
           }
          ],
          "carpet": [
           {
            "aaxis": {
             "endlinecolor": "#2a3f5f",
             "gridcolor": "white",
             "linecolor": "white",
             "minorgridcolor": "white",
             "startlinecolor": "#2a3f5f"
            },
            "baxis": {
             "endlinecolor": "#2a3f5f",
             "gridcolor": "white",
             "linecolor": "white",
             "minorgridcolor": "white",
             "startlinecolor": "#2a3f5f"
            },
            "type": "carpet"
           }
          ],
          "choropleth": [
           {
            "colorbar": {
             "outlinewidth": 0,
             "ticks": ""
            },
            "type": "choropleth"
           }
          ],
          "contour": [
           {
            "colorbar": {
             "outlinewidth": 0,
             "ticks": ""
            },
            "colorscale": [
             [
              0,
              "#0d0887"
             ],
             [
              0.1111111111111111,
              "#46039f"
             ],
             [
              0.2222222222222222,
              "#7201a8"
             ],
             [
              0.3333333333333333,
              "#9c179e"
             ],
             [
              0.4444444444444444,
              "#bd3786"
             ],
             [
              0.5555555555555556,
              "#d8576b"
             ],
             [
              0.6666666666666666,
              "#ed7953"
             ],
             [
              0.7777777777777778,
              "#fb9f3a"
             ],
             [
              0.8888888888888888,
              "#fdca26"
             ],
             [
              1,
              "#f0f921"
             ]
            ],
            "type": "contour"
           }
          ],
          "contourcarpet": [
           {
            "colorbar": {
             "outlinewidth": 0,
             "ticks": ""
            },
            "type": "contourcarpet"
           }
          ],
          "heatmap": [
           {
            "colorbar": {
             "outlinewidth": 0,
             "ticks": ""
            },
            "colorscale": [
             [
              0,
              "#0d0887"
             ],
             [
              0.1111111111111111,
              "#46039f"
             ],
             [
              0.2222222222222222,
              "#7201a8"
             ],
             [
              0.3333333333333333,
              "#9c179e"
             ],
             [
              0.4444444444444444,
              "#bd3786"
             ],
             [
              0.5555555555555556,
              "#d8576b"
             ],
             [
              0.6666666666666666,
              "#ed7953"
             ],
             [
              0.7777777777777778,
              "#fb9f3a"
             ],
             [
              0.8888888888888888,
              "#fdca26"
             ],
             [
              1,
              "#f0f921"
             ]
            ],
            "type": "heatmap"
           }
          ],
          "heatmapgl": [
           {
            "colorbar": {
             "outlinewidth": 0,
             "ticks": ""
            },
            "colorscale": [
             [
              0,
              "#0d0887"
             ],
             [
              0.1111111111111111,
              "#46039f"
             ],
             [
              0.2222222222222222,
              "#7201a8"
             ],
             [
              0.3333333333333333,
              "#9c179e"
             ],
             [
              0.4444444444444444,
              "#bd3786"
             ],
             [
              0.5555555555555556,
              "#d8576b"
             ],
             [
              0.6666666666666666,
              "#ed7953"
             ],
             [
              0.7777777777777778,
              "#fb9f3a"
             ],
             [
              0.8888888888888888,
              "#fdca26"
             ],
             [
              1,
              "#f0f921"
             ]
            ],
            "type": "heatmapgl"
           }
          ],
          "histogram": [
           {
            "marker": {
             "pattern": {
              "fillmode": "overlay",
              "size": 10,
              "solidity": 0.2
             }
            },
            "type": "histogram"
           }
          ],
          "histogram2d": [
           {
            "colorbar": {
             "outlinewidth": 0,
             "ticks": ""
            },
            "colorscale": [
             [
              0,
              "#0d0887"
             ],
             [
              0.1111111111111111,
              "#46039f"
             ],
             [
              0.2222222222222222,
              "#7201a8"
             ],
             [
              0.3333333333333333,
              "#9c179e"
             ],
             [
              0.4444444444444444,
              "#bd3786"
             ],
             [
              0.5555555555555556,
              "#d8576b"
             ],
             [
              0.6666666666666666,
              "#ed7953"
             ],
             [
              0.7777777777777778,
              "#fb9f3a"
             ],
             [
              0.8888888888888888,
              "#fdca26"
             ],
             [
              1,
              "#f0f921"
             ]
            ],
            "type": "histogram2d"
           }
          ],
          "histogram2dcontour": [
           {
            "colorbar": {
             "outlinewidth": 0,
             "ticks": ""
            },
            "colorscale": [
             [
              0,
              "#0d0887"
             ],
             [
              0.1111111111111111,
              "#46039f"
             ],
             [
              0.2222222222222222,
              "#7201a8"
             ],
             [
              0.3333333333333333,
              "#9c179e"
             ],
             [
              0.4444444444444444,
              "#bd3786"
             ],
             [
              0.5555555555555556,
              "#d8576b"
             ],
             [
              0.6666666666666666,
              "#ed7953"
             ],
             [
              0.7777777777777778,
              "#fb9f3a"
             ],
             [
              0.8888888888888888,
              "#fdca26"
             ],
             [
              1,
              "#f0f921"
             ]
            ],
            "type": "histogram2dcontour"
           }
          ],
          "mesh3d": [
           {
            "colorbar": {
             "outlinewidth": 0,
             "ticks": ""
            },
            "type": "mesh3d"
           }
          ],
          "parcoords": [
           {
            "line": {
             "colorbar": {
              "outlinewidth": 0,
              "ticks": ""
             }
            },
            "type": "parcoords"
           }
          ],
          "pie": [
           {
            "automargin": true,
            "type": "pie"
           }
          ],
          "scatter": [
           {
            "fillpattern": {
             "fillmode": "overlay",
             "size": 10,
             "solidity": 0.2
            },
            "type": "scatter"
           }
          ],
          "scatter3d": [
           {
            "line": {
             "colorbar": {
              "outlinewidth": 0,
              "ticks": ""
             }
            },
            "marker": {
             "colorbar": {
              "outlinewidth": 0,
              "ticks": ""
             }
            },
            "type": "scatter3d"
           }
          ],
          "scattercarpet": [
           {
            "marker": {
             "colorbar": {
              "outlinewidth": 0,
              "ticks": ""
             }
            },
            "type": "scattercarpet"
           }
          ],
          "scattergeo": [
           {
            "marker": {
             "colorbar": {
              "outlinewidth": 0,
              "ticks": ""
             }
            },
            "type": "scattergeo"
           }
          ],
          "scattergl": [
           {
            "marker": {
             "colorbar": {
              "outlinewidth": 0,
              "ticks": ""
             }
            },
            "type": "scattergl"
           }
          ],
          "scattermapbox": [
           {
            "marker": {
             "colorbar": {
              "outlinewidth": 0,
              "ticks": ""
             }
            },
            "type": "scattermapbox"
           }
          ],
          "scatterpolar": [
           {
            "marker": {
             "colorbar": {
              "outlinewidth": 0,
              "ticks": ""
             }
            },
            "type": "scatterpolar"
           }
          ],
          "scatterpolargl": [
           {
            "marker": {
             "colorbar": {
              "outlinewidth": 0,
              "ticks": ""
             }
            },
            "type": "scatterpolargl"
           }
          ],
          "scatterternary": [
           {
            "marker": {
             "colorbar": {
              "outlinewidth": 0,
              "ticks": ""
             }
            },
            "type": "scatterternary"
           }
          ],
          "surface": [
           {
            "colorbar": {
             "outlinewidth": 0,
             "ticks": ""
            },
            "colorscale": [
             [
              0,
              "#0d0887"
             ],
             [
              0.1111111111111111,
              "#46039f"
             ],
             [
              0.2222222222222222,
              "#7201a8"
             ],
             [
              0.3333333333333333,
              "#9c179e"
             ],
             [
              0.4444444444444444,
              "#bd3786"
             ],
             [
              0.5555555555555556,
              "#d8576b"
             ],
             [
              0.6666666666666666,
              "#ed7953"
             ],
             [
              0.7777777777777778,
              "#fb9f3a"
             ],
             [
              0.8888888888888888,
              "#fdca26"
             ],
             [
              1,
              "#f0f921"
             ]
            ],
            "type": "surface"
           }
          ],
          "table": [
           {
            "cells": {
             "fill": {
              "color": "#EBF0F8"
             },
             "line": {
              "color": "white"
             }
            },
            "header": {
             "fill": {
              "color": "#C8D4E3"
             },
             "line": {
              "color": "white"
             }
            },
            "type": "table"
           }
          ]
         },
         "layout": {
          "annotationdefaults": {
           "arrowcolor": "#2a3f5f",
           "arrowhead": 0,
           "arrowwidth": 1
          },
          "autotypenumbers": "strict",
          "coloraxis": {
           "colorbar": {
            "outlinewidth": 0,
            "ticks": ""
           }
          },
          "colorscale": {
           "diverging": [
            [
             0,
             "#8e0152"
            ],
            [
             0.1,
             "#c51b7d"
            ],
            [
             0.2,
             "#de77ae"
            ],
            [
             0.3,
             "#f1b6da"
            ],
            [
             0.4,
             "#fde0ef"
            ],
            [
             0.5,
             "#f7f7f7"
            ],
            [
             0.6,
             "#e6f5d0"
            ],
            [
             0.7,
             "#b8e186"
            ],
            [
             0.8,
             "#7fbc41"
            ],
            [
             0.9,
             "#4d9221"
            ],
            [
             1,
             "#276419"
            ]
           ],
           "sequential": [
            [
             0,
             "#0d0887"
            ],
            [
             0.1111111111111111,
             "#46039f"
            ],
            [
             0.2222222222222222,
             "#7201a8"
            ],
            [
             0.3333333333333333,
             "#9c179e"
            ],
            [
             0.4444444444444444,
             "#bd3786"
            ],
            [
             0.5555555555555556,
             "#d8576b"
            ],
            [
             0.6666666666666666,
             "#ed7953"
            ],
            [
             0.7777777777777778,
             "#fb9f3a"
            ],
            [
             0.8888888888888888,
             "#fdca26"
            ],
            [
             1,
             "#f0f921"
            ]
           ],
           "sequentialminus": [
            [
             0,
             "#0d0887"
            ],
            [
             0.1111111111111111,
             "#46039f"
            ],
            [
             0.2222222222222222,
             "#7201a8"
            ],
            [
             0.3333333333333333,
             "#9c179e"
            ],
            [
             0.4444444444444444,
             "#bd3786"
            ],
            [
             0.5555555555555556,
             "#d8576b"
            ],
            [
             0.6666666666666666,
             "#ed7953"
            ],
            [
             0.7777777777777778,
             "#fb9f3a"
            ],
            [
             0.8888888888888888,
             "#fdca26"
            ],
            [
             1,
             "#f0f921"
            ]
           ]
          },
          "colorway": [
           "#636efa",
           "#EF553B",
           "#00cc96",
           "#ab63fa",
           "#FFA15A",
           "#19d3f3",
           "#FF6692",
           "#B6E880",
           "#FF97FF",
           "#FECB52"
          ],
          "font": {
           "color": "#2a3f5f"
          },
          "geo": {
           "bgcolor": "white",
           "lakecolor": "white",
           "landcolor": "#E5ECF6",
           "showlakes": true,
           "showland": true,
           "subunitcolor": "white"
          },
          "hoverlabel": {
           "align": "left"
          },
          "hovermode": "closest",
          "mapbox": {
           "style": "light"
          },
          "paper_bgcolor": "white",
          "plot_bgcolor": "#E5ECF6",
          "polar": {
           "angularaxis": {
            "gridcolor": "white",
            "linecolor": "white",
            "ticks": ""
           },
           "bgcolor": "#E5ECF6",
           "radialaxis": {
            "gridcolor": "white",
            "linecolor": "white",
            "ticks": ""
           }
          },
          "scene": {
           "xaxis": {
            "backgroundcolor": "#E5ECF6",
            "gridcolor": "white",
            "gridwidth": 2,
            "linecolor": "white",
            "showbackground": true,
            "ticks": "",
            "zerolinecolor": "white"
           },
           "yaxis": {
            "backgroundcolor": "#E5ECF6",
            "gridcolor": "white",
            "gridwidth": 2,
            "linecolor": "white",
            "showbackground": true,
            "ticks": "",
            "zerolinecolor": "white"
           },
           "zaxis": {
            "backgroundcolor": "#E5ECF6",
            "gridcolor": "white",
            "gridwidth": 2,
            "linecolor": "white",
            "showbackground": true,
            "ticks": "",
            "zerolinecolor": "white"
           }
          },
          "shapedefaults": {
           "line": {
            "color": "#2a3f5f"
           }
          },
          "ternary": {
           "aaxis": {
            "gridcolor": "white",
            "linecolor": "white",
            "ticks": ""
           },
           "baxis": {
            "gridcolor": "white",
            "linecolor": "white",
            "ticks": ""
           },
           "bgcolor": "#E5ECF6",
           "caxis": {
            "gridcolor": "white",
            "linecolor": "white",
            "ticks": ""
           }
          },
          "title": {
           "x": 0.05
          },
          "xaxis": {
           "automargin": true,
           "gridcolor": "white",
           "linecolor": "white",
           "ticks": "",
           "title": {
            "standoff": 15
           },
           "zerolinecolor": "white",
           "zerolinewidth": 2
          },
          "yaxis": {
           "automargin": true,
           "gridcolor": "white",
           "linecolor": "white",
           "ticks": "",
           "title": {
            "standoff": 15
           },
           "zerolinecolor": "white",
           "zerolinewidth": 2
          }
         }
        },
        "xaxis": {
         "anchor": "y",
         "domain": [
          0,
          1
         ],
         "title": {
          "text": "loudness"
         }
        },
        "xaxis2": {
         "anchor": "y2",
         "domain": [
          0,
          1
         ],
         "matches": "x",
         "showgrid": true,
         "showticklabels": false
        },
        "yaxis": {
         "anchor": "x",
         "domain": [
          0,
          0.7326
         ],
         "title": {
          "text": "count"
         }
        },
        "yaxis2": {
         "anchor": "x2",
         "domain": [
          0.7426,
          1
         ],
         "matches": "y2",
         "showgrid": false,
         "showline": false,
         "showticklabels": false,
         "ticks": ""
        }
       }
      }
     },
     "metadata": {},
     "output_type": "display_data"
    },
    {
     "data": {
      "application/vnd.plotly.v1+json": {
       "config": {
        "plotlyServerURL": "https://plot.ly"
       },
       "data": [
        {
         "alignmentgroup": "True",
         "bingroup": "x",
         "hovertemplate": "time_range=long_term<br>speechiness=%{x}<br>count=%{y}<extra></extra>",
         "legendgroup": "long_term",
         "marker": {
          "color": "#636efa",
          "pattern": {
           "shape": ""
          }
         },
         "name": "long_term",
         "offsetgroup": "long_term",
         "opacity": 0.5,
         "orientation": "v",
         "showlegend": true,
         "type": "histogram",
         "x": [
          0.0323,
          0.321,
          0.083,
          0.295,
          0.273,
          0.0926,
          0.0298,
          0.0971,
          0.049,
          0.0479,
          0.0474,
          0.0876,
          0.0478,
          0.074,
          0.146,
          0.245,
          0.0378,
          0.0297,
          0.0529,
          0.0579,
          0.194,
          0.0415,
          0.301,
          0.0505,
          0.0744,
          0.0379,
          0.299,
          0.0617,
          0.056,
          0.0308,
          0.0322,
          0.067,
          0.0677,
          0.0439,
          0.0958,
          0.0368,
          0.159,
          0.104,
          0.0434,
          0.0495,
          0.152,
          0.0368,
          0.166,
          0.0843,
          0.0583,
          0.0277,
          0.0639,
          0.0319,
          0.0368,
          0.264
         ],
         "xaxis": "x",
         "yaxis": "y"
        },
        {
         "alignmentgroup": "True",
         "hovertemplate": "time_range=long_term<br>speechiness=%{x}<extra></extra>",
         "legendgroup": "long_term",
         "marker": {
          "color": "#636efa"
         },
         "name": "long_term",
         "notched": true,
         "offsetgroup": "long_term",
         "opacity": 0.5,
         "showlegend": false,
         "type": "box",
         "x": [
          0.0323,
          0.321,
          0.083,
          0.295,
          0.273,
          0.0926,
          0.0298,
          0.0971,
          0.049,
          0.0479,
          0.0474,
          0.0876,
          0.0478,
          0.074,
          0.146,
          0.245,
          0.0378,
          0.0297,
          0.0529,
          0.0579,
          0.194,
          0.0415,
          0.301,
          0.0505,
          0.0744,
          0.0379,
          0.299,
          0.0617,
          0.056,
          0.0308,
          0.0322,
          0.067,
          0.0677,
          0.0439,
          0.0958,
          0.0368,
          0.159,
          0.104,
          0.0434,
          0.0495,
          0.152,
          0.0368,
          0.166,
          0.0843,
          0.0583,
          0.0277,
          0.0639,
          0.0319,
          0.0368,
          0.264
         ],
         "xaxis": "x2",
         "yaxis": "y2"
        },
        {
         "alignmentgroup": "True",
         "bingroup": "x",
         "hovertemplate": "time_range=medium_term<br>speechiness=%{x}<br>count=%{y}<extra></extra>",
         "legendgroup": "medium_term",
         "marker": {
          "color": "#EF553B",
          "pattern": {
           "shape": ""
          }
         },
         "name": "medium_term",
         "offsetgroup": "medium_term",
         "opacity": 0.5,
         "orientation": "v",
         "showlegend": true,
         "type": "histogram",
         "x": [
          0.0323,
          0.0971,
          0.0474,
          0.0478,
          0.245,
          0.0479,
          0.0415,
          0.301,
          0.074,
          0.299,
          0.067,
          0.0368,
          0.0876,
          0.0439,
          0.0583,
          0.0767,
          0.0579,
          0.045,
          0.0265,
          0.0368,
          0.0853,
          0.0892,
          0.049,
          0.273,
          0.0321,
          0.0297,
          0.0856,
          0.0346,
          0.0505,
          0.083,
          0.054,
          0.104,
          0.0561,
          0.0315,
          0.132,
          0.0332,
          0.0298,
          0.0564,
          0.179,
          0.0373,
          0.0926,
          0.0308,
          0.108,
          0.0609,
          0.0376,
          0.0332,
          0.068,
          0.056,
          0.146,
          0.0677
         ],
         "xaxis": "x",
         "yaxis": "y"
        },
        {
         "alignmentgroup": "True",
         "hovertemplate": "time_range=medium_term<br>speechiness=%{x}<extra></extra>",
         "legendgroup": "medium_term",
         "marker": {
          "color": "#EF553B"
         },
         "name": "medium_term",
         "notched": true,
         "offsetgroup": "medium_term",
         "opacity": 0.5,
         "showlegend": false,
         "type": "box",
         "x": [
          0.0323,
          0.0971,
          0.0474,
          0.0478,
          0.245,
          0.0479,
          0.0415,
          0.301,
          0.074,
          0.299,
          0.067,
          0.0368,
          0.0876,
          0.0439,
          0.0583,
          0.0767,
          0.0579,
          0.045,
          0.0265,
          0.0368,
          0.0853,
          0.0892,
          0.049,
          0.273,
          0.0321,
          0.0297,
          0.0856,
          0.0346,
          0.0505,
          0.083,
          0.054,
          0.104,
          0.0561,
          0.0315,
          0.132,
          0.0332,
          0.0298,
          0.0564,
          0.179,
          0.0373,
          0.0926,
          0.0308,
          0.108,
          0.0609,
          0.0376,
          0.0332,
          0.068,
          0.056,
          0.146,
          0.0677
         ],
         "xaxis": "x2",
         "yaxis": "y2"
        }
       ],
       "layout": {
        "barmode": "relative",
        "legend": {
         "title": {
          "text": "time_range"
         },
         "tracegroupgap": 0
        },
        "margin": {
         "t": 60
        },
        "template": {
         "data": {
          "bar": [
           {
            "error_x": {
             "color": "#2a3f5f"
            },
            "error_y": {
             "color": "#2a3f5f"
            },
            "marker": {
             "line": {
              "color": "#E5ECF6",
              "width": 0.5
             },
             "pattern": {
              "fillmode": "overlay",
              "size": 10,
              "solidity": 0.2
             }
            },
            "type": "bar"
           }
          ],
          "barpolar": [
           {
            "marker": {
             "line": {
              "color": "#E5ECF6",
              "width": 0.5
             },
             "pattern": {
              "fillmode": "overlay",
              "size": 10,
              "solidity": 0.2
             }
            },
            "type": "barpolar"
           }
          ],
          "carpet": [
           {
            "aaxis": {
             "endlinecolor": "#2a3f5f",
             "gridcolor": "white",
             "linecolor": "white",
             "minorgridcolor": "white",
             "startlinecolor": "#2a3f5f"
            },
            "baxis": {
             "endlinecolor": "#2a3f5f",
             "gridcolor": "white",
             "linecolor": "white",
             "minorgridcolor": "white",
             "startlinecolor": "#2a3f5f"
            },
            "type": "carpet"
           }
          ],
          "choropleth": [
           {
            "colorbar": {
             "outlinewidth": 0,
             "ticks": ""
            },
            "type": "choropleth"
           }
          ],
          "contour": [
           {
            "colorbar": {
             "outlinewidth": 0,
             "ticks": ""
            },
            "colorscale": [
             [
              0,
              "#0d0887"
             ],
             [
              0.1111111111111111,
              "#46039f"
             ],
             [
              0.2222222222222222,
              "#7201a8"
             ],
             [
              0.3333333333333333,
              "#9c179e"
             ],
             [
              0.4444444444444444,
              "#bd3786"
             ],
             [
              0.5555555555555556,
              "#d8576b"
             ],
             [
              0.6666666666666666,
              "#ed7953"
             ],
             [
              0.7777777777777778,
              "#fb9f3a"
             ],
             [
              0.8888888888888888,
              "#fdca26"
             ],
             [
              1,
              "#f0f921"
             ]
            ],
            "type": "contour"
           }
          ],
          "contourcarpet": [
           {
            "colorbar": {
             "outlinewidth": 0,
             "ticks": ""
            },
            "type": "contourcarpet"
           }
          ],
          "heatmap": [
           {
            "colorbar": {
             "outlinewidth": 0,
             "ticks": ""
            },
            "colorscale": [
             [
              0,
              "#0d0887"
             ],
             [
              0.1111111111111111,
              "#46039f"
             ],
             [
              0.2222222222222222,
              "#7201a8"
             ],
             [
              0.3333333333333333,
              "#9c179e"
             ],
             [
              0.4444444444444444,
              "#bd3786"
             ],
             [
              0.5555555555555556,
              "#d8576b"
             ],
             [
              0.6666666666666666,
              "#ed7953"
             ],
             [
              0.7777777777777778,
              "#fb9f3a"
             ],
             [
              0.8888888888888888,
              "#fdca26"
             ],
             [
              1,
              "#f0f921"
             ]
            ],
            "type": "heatmap"
           }
          ],
          "heatmapgl": [
           {
            "colorbar": {
             "outlinewidth": 0,
             "ticks": ""
            },
            "colorscale": [
             [
              0,
              "#0d0887"
             ],
             [
              0.1111111111111111,
              "#46039f"
             ],
             [
              0.2222222222222222,
              "#7201a8"
             ],
             [
              0.3333333333333333,
              "#9c179e"
             ],
             [
              0.4444444444444444,
              "#bd3786"
             ],
             [
              0.5555555555555556,
              "#d8576b"
             ],
             [
              0.6666666666666666,
              "#ed7953"
             ],
             [
              0.7777777777777778,
              "#fb9f3a"
             ],
             [
              0.8888888888888888,
              "#fdca26"
             ],
             [
              1,
              "#f0f921"
             ]
            ],
            "type": "heatmapgl"
           }
          ],
          "histogram": [
           {
            "marker": {
             "pattern": {
              "fillmode": "overlay",
              "size": 10,
              "solidity": 0.2
             }
            },
            "type": "histogram"
           }
          ],
          "histogram2d": [
           {
            "colorbar": {
             "outlinewidth": 0,
             "ticks": ""
            },
            "colorscale": [
             [
              0,
              "#0d0887"
             ],
             [
              0.1111111111111111,
              "#46039f"
             ],
             [
              0.2222222222222222,
              "#7201a8"
             ],
             [
              0.3333333333333333,
              "#9c179e"
             ],
             [
              0.4444444444444444,
              "#bd3786"
             ],
             [
              0.5555555555555556,
              "#d8576b"
             ],
             [
              0.6666666666666666,
              "#ed7953"
             ],
             [
              0.7777777777777778,
              "#fb9f3a"
             ],
             [
              0.8888888888888888,
              "#fdca26"
             ],
             [
              1,
              "#f0f921"
             ]
            ],
            "type": "histogram2d"
           }
          ],
          "histogram2dcontour": [
           {
            "colorbar": {
             "outlinewidth": 0,
             "ticks": ""
            },
            "colorscale": [
             [
              0,
              "#0d0887"
             ],
             [
              0.1111111111111111,
              "#46039f"
             ],
             [
              0.2222222222222222,
              "#7201a8"
             ],
             [
              0.3333333333333333,
              "#9c179e"
             ],
             [
              0.4444444444444444,
              "#bd3786"
             ],
             [
              0.5555555555555556,
              "#d8576b"
             ],
             [
              0.6666666666666666,
              "#ed7953"
             ],
             [
              0.7777777777777778,
              "#fb9f3a"
             ],
             [
              0.8888888888888888,
              "#fdca26"
             ],
             [
              1,
              "#f0f921"
             ]
            ],
            "type": "histogram2dcontour"
           }
          ],
          "mesh3d": [
           {
            "colorbar": {
             "outlinewidth": 0,
             "ticks": ""
            },
            "type": "mesh3d"
           }
          ],
          "parcoords": [
           {
            "line": {
             "colorbar": {
              "outlinewidth": 0,
              "ticks": ""
             }
            },
            "type": "parcoords"
           }
          ],
          "pie": [
           {
            "automargin": true,
            "type": "pie"
           }
          ],
          "scatter": [
           {
            "fillpattern": {
             "fillmode": "overlay",
             "size": 10,
             "solidity": 0.2
            },
            "type": "scatter"
           }
          ],
          "scatter3d": [
           {
            "line": {
             "colorbar": {
              "outlinewidth": 0,
              "ticks": ""
             }
            },
            "marker": {
             "colorbar": {
              "outlinewidth": 0,
              "ticks": ""
             }
            },
            "type": "scatter3d"
           }
          ],
          "scattercarpet": [
           {
            "marker": {
             "colorbar": {
              "outlinewidth": 0,
              "ticks": ""
             }
            },
            "type": "scattercarpet"
           }
          ],
          "scattergeo": [
           {
            "marker": {
             "colorbar": {
              "outlinewidth": 0,
              "ticks": ""
             }
            },
            "type": "scattergeo"
           }
          ],
          "scattergl": [
           {
            "marker": {
             "colorbar": {
              "outlinewidth": 0,
              "ticks": ""
             }
            },
            "type": "scattergl"
           }
          ],
          "scattermapbox": [
           {
            "marker": {
             "colorbar": {
              "outlinewidth": 0,
              "ticks": ""
             }
            },
            "type": "scattermapbox"
           }
          ],
          "scatterpolar": [
           {
            "marker": {
             "colorbar": {
              "outlinewidth": 0,
              "ticks": ""
             }
            },
            "type": "scatterpolar"
           }
          ],
          "scatterpolargl": [
           {
            "marker": {
             "colorbar": {
              "outlinewidth": 0,
              "ticks": ""
             }
            },
            "type": "scatterpolargl"
           }
          ],
          "scatterternary": [
           {
            "marker": {
             "colorbar": {
              "outlinewidth": 0,
              "ticks": ""
             }
            },
            "type": "scatterternary"
           }
          ],
          "surface": [
           {
            "colorbar": {
             "outlinewidth": 0,
             "ticks": ""
            },
            "colorscale": [
             [
              0,
              "#0d0887"
             ],
             [
              0.1111111111111111,
              "#46039f"
             ],
             [
              0.2222222222222222,
              "#7201a8"
             ],
             [
              0.3333333333333333,
              "#9c179e"
             ],
             [
              0.4444444444444444,
              "#bd3786"
             ],
             [
              0.5555555555555556,
              "#d8576b"
             ],
             [
              0.6666666666666666,
              "#ed7953"
             ],
             [
              0.7777777777777778,
              "#fb9f3a"
             ],
             [
              0.8888888888888888,
              "#fdca26"
             ],
             [
              1,
              "#f0f921"
             ]
            ],
            "type": "surface"
           }
          ],
          "table": [
           {
            "cells": {
             "fill": {
              "color": "#EBF0F8"
             },
             "line": {
              "color": "white"
             }
            },
            "header": {
             "fill": {
              "color": "#C8D4E3"
             },
             "line": {
              "color": "white"
             }
            },
            "type": "table"
           }
          ]
         },
         "layout": {
          "annotationdefaults": {
           "arrowcolor": "#2a3f5f",
           "arrowhead": 0,
           "arrowwidth": 1
          },
          "autotypenumbers": "strict",
          "coloraxis": {
           "colorbar": {
            "outlinewidth": 0,
            "ticks": ""
           }
          },
          "colorscale": {
           "diverging": [
            [
             0,
             "#8e0152"
            ],
            [
             0.1,
             "#c51b7d"
            ],
            [
             0.2,
             "#de77ae"
            ],
            [
             0.3,
             "#f1b6da"
            ],
            [
             0.4,
             "#fde0ef"
            ],
            [
             0.5,
             "#f7f7f7"
            ],
            [
             0.6,
             "#e6f5d0"
            ],
            [
             0.7,
             "#b8e186"
            ],
            [
             0.8,
             "#7fbc41"
            ],
            [
             0.9,
             "#4d9221"
            ],
            [
             1,
             "#276419"
            ]
           ],
           "sequential": [
            [
             0,
             "#0d0887"
            ],
            [
             0.1111111111111111,
             "#46039f"
            ],
            [
             0.2222222222222222,
             "#7201a8"
            ],
            [
             0.3333333333333333,
             "#9c179e"
            ],
            [
             0.4444444444444444,
             "#bd3786"
            ],
            [
             0.5555555555555556,
             "#d8576b"
            ],
            [
             0.6666666666666666,
             "#ed7953"
            ],
            [
             0.7777777777777778,
             "#fb9f3a"
            ],
            [
             0.8888888888888888,
             "#fdca26"
            ],
            [
             1,
             "#f0f921"
            ]
           ],
           "sequentialminus": [
            [
             0,
             "#0d0887"
            ],
            [
             0.1111111111111111,
             "#46039f"
            ],
            [
             0.2222222222222222,
             "#7201a8"
            ],
            [
             0.3333333333333333,
             "#9c179e"
            ],
            [
             0.4444444444444444,
             "#bd3786"
            ],
            [
             0.5555555555555556,
             "#d8576b"
            ],
            [
             0.6666666666666666,
             "#ed7953"
            ],
            [
             0.7777777777777778,
             "#fb9f3a"
            ],
            [
             0.8888888888888888,
             "#fdca26"
            ],
            [
             1,
             "#f0f921"
            ]
           ]
          },
          "colorway": [
           "#636efa",
           "#EF553B",
           "#00cc96",
           "#ab63fa",
           "#FFA15A",
           "#19d3f3",
           "#FF6692",
           "#B6E880",
           "#FF97FF",
           "#FECB52"
          ],
          "font": {
           "color": "#2a3f5f"
          },
          "geo": {
           "bgcolor": "white",
           "lakecolor": "white",
           "landcolor": "#E5ECF6",
           "showlakes": true,
           "showland": true,
           "subunitcolor": "white"
          },
          "hoverlabel": {
           "align": "left"
          },
          "hovermode": "closest",
          "mapbox": {
           "style": "light"
          },
          "paper_bgcolor": "white",
          "plot_bgcolor": "#E5ECF6",
          "polar": {
           "angularaxis": {
            "gridcolor": "white",
            "linecolor": "white",
            "ticks": ""
           },
           "bgcolor": "#E5ECF6",
           "radialaxis": {
            "gridcolor": "white",
            "linecolor": "white",
            "ticks": ""
           }
          },
          "scene": {
           "xaxis": {
            "backgroundcolor": "#E5ECF6",
            "gridcolor": "white",
            "gridwidth": 2,
            "linecolor": "white",
            "showbackground": true,
            "ticks": "",
            "zerolinecolor": "white"
           },
           "yaxis": {
            "backgroundcolor": "#E5ECF6",
            "gridcolor": "white",
            "gridwidth": 2,
            "linecolor": "white",
            "showbackground": true,
            "ticks": "",
            "zerolinecolor": "white"
           },
           "zaxis": {
            "backgroundcolor": "#E5ECF6",
            "gridcolor": "white",
            "gridwidth": 2,
            "linecolor": "white",
            "showbackground": true,
            "ticks": "",
            "zerolinecolor": "white"
           }
          },
          "shapedefaults": {
           "line": {
            "color": "#2a3f5f"
           }
          },
          "ternary": {
           "aaxis": {
            "gridcolor": "white",
            "linecolor": "white",
            "ticks": ""
           },
           "baxis": {
            "gridcolor": "white",
            "linecolor": "white",
            "ticks": ""
           },
           "bgcolor": "#E5ECF6",
           "caxis": {
            "gridcolor": "white",
            "linecolor": "white",
            "ticks": ""
           }
          },
          "title": {
           "x": 0.05
          },
          "xaxis": {
           "automargin": true,
           "gridcolor": "white",
           "linecolor": "white",
           "ticks": "",
           "title": {
            "standoff": 15
           },
           "zerolinecolor": "white",
           "zerolinewidth": 2
          },
          "yaxis": {
           "automargin": true,
           "gridcolor": "white",
           "linecolor": "white",
           "ticks": "",
           "title": {
            "standoff": 15
           },
           "zerolinecolor": "white",
           "zerolinewidth": 2
          }
         }
        },
        "xaxis": {
         "anchor": "y",
         "domain": [
          0,
          1
         ],
         "title": {
          "text": "speechiness"
         }
        },
        "xaxis2": {
         "anchor": "y2",
         "domain": [
          0,
          1
         ],
         "matches": "x",
         "showgrid": true,
         "showticklabels": false
        },
        "yaxis": {
         "anchor": "x",
         "domain": [
          0,
          0.7326
         ],
         "title": {
          "text": "count"
         }
        },
        "yaxis2": {
         "anchor": "x2",
         "domain": [
          0.7426,
          1
         ],
         "matches": "y2",
         "showgrid": false,
         "showline": false,
         "showticklabels": false,
         "ticks": ""
        }
       }
      }
     },
     "metadata": {},
     "output_type": "display_data"
    }
   ],
   "source": [
    "\"\"\" colunas de interesse de acordo com a dscrição disponivel na documentação do spotify:\n",
    "    - energy\n",
    "    - instrumentalness\n",
    "    - loudness\n",
    "    - speechiness\n",
    "\"\"\"\n",
    "\n",
    "features = [\"energy\", \"instrumentalness\", \"loudness\", \"speechiness\"]\n",
    "for feature in features: \n",
    "    fig = px.histogram(geral_tracks, x=feature, color=\"time_range\", marginal=\"box\")\n",
    "    fig.update_traces(opacity=0.5)\n",
    "    fig.show()"
   ]
  },
  {
   "attachments": {},
   "cell_type": "markdown",
   "metadata": {},
   "source": [
    "##### Criando uma playlist usando o algoritmo de recomendacão do Spotify com base nos generos musicais e features desejadas"
   ]
  },
  {
   "cell_type": "code",
   "execution_count": null,
   "metadata": {},
   "outputs": [],
   "source": [
    "# criando uma playlist nova para inserir minhas recomendações\n",
    "# chamada para o endpoint de modificações em playlists privadas\n",
    "sp_play = spotipy.Spotify(auth_manager=SpotifyOAuth(client_id = SPOTIPY_CLIENT_ID,\n",
    "                                                      client_secret = SPOTIPY_CLIENT_SECRET,\n",
    "                                                      redirect_uri = SPOTIPY_REDIRECT_URI,\n",
    "                                                      scope=[\"playlist-modify-public\"]\n",
    "                                                      ))\n",
    "\n",
    "sp_play.user_playlist_create(user=sp.me()[\"id\"], name=\"my recommendation algorithm\", public=True, collaborative=False)"
   ]
  },
  {
   "cell_type": "code",
   "execution_count": 171,
   "metadata": {},
   "outputs": [],
   "source": [
    "# parametros minimos das musicas que eu quero\n",
    "min_energy = geral_tracks[geral_tracks[\"time_range\"] == \"medium_term\"][\"energy\"].quantile([.50]).iloc[0]\n",
    "min_loudness = geral_tracks[geral_tracks[\"time_range\"] == \"medium_term\"][\"loudness\"].quantile([.50]).iloc[0]"
   ]
  },
  {
   "cell_type": "code",
   "execution_count": 218,
   "metadata": {},
   "outputs": [],
   "source": [
    "rec = sp.recommendations(seed_genres=[\"rock\", \"punk-rock\", \"emo\", \"electro\", \"electronic\"], limit=20, min_energy=min_energy, min_loudness=min_loudness, min_popularity=60)"
   ]
  },
  {
   "cell_type": "code",
   "execution_count": 220,
   "metadata": {},
   "outputs": [],
   "source": [
    "lista_rec = []\n",
    "for track in rec[\"tracks\"]:\n",
    "    lista_rec.append(track[\"uri\"])"
   ]
  },
  {
   "cell_type": "code",
   "execution_count": 221,
   "metadata": {},
   "outputs": [
    {
     "data": {
      "text/plain": [
       "['spotify:track:07GvNcU1WdyZJq3XxP0kZa',\n",
       " 'spotify:track:5Z5nbOXhsSbySVC7WUc6y9',\n",
       " 'spotify:track:6gLn8QhAYL4dEwdpVjfCPl',\n",
       " 'spotify:track:5MsZIaCYY6Tsdph0LiB0hE',\n",
       " 'spotify:track:7kXmJwrZGIhDaLT9sNo3ut',\n",
       " 'spotify:track:1p1nO35bbi4ZlQgjIA4oa4',\n",
       " 'spotify:track:0DxN6Ywom8nnndyQXdSBPy',\n",
       " 'spotify:track:2l57cfmCnOkwNX1tky02n1',\n",
       " 'spotify:track:1KtD0xaLAikgIt5tPbteZQ',\n",
       " 'spotify:track:4TIJ7zSBNejpoIPaWpWRKc',\n",
       " 'spotify:track:16Cs9KsHzgunxaEfGrXysG',\n",
       " 'spotify:track:1bhjMY5O0ZjB41OHcdRH0a',\n",
       " 'spotify:track:6AbVJjzv7thIvmMCuhZrmK',\n",
       " 'spotify:track:1EotcFbWTbMCXeKFVEtX6Y',\n",
       " 'spotify:track:1yjY7rpaAQvKwpdUliHx0d',\n",
       " 'spotify:track:2nLtzopw4rPReszdYBJU6h',\n",
       " 'spotify:track:663Karu2rvKLdnY0eo1n3M',\n",
       " 'spotify:track:2TfSHkHiFO4gRztVIkggkE',\n",
       " 'spotify:track:5kr3j5Clb9rjEposoMyLVt',\n",
       " 'spotify:track:40sl0jG01g4FZkCrBzQhZX']"
      ]
     },
     "execution_count": 221,
     "metadata": {},
     "output_type": "execute_result"
    }
   ],
   "source": [
    "lista_rec"
   ]
  },
  {
   "cell_type": "code",
   "execution_count": 238,
   "metadata": {},
   "outputs": [
    {
     "data": {
      "text/plain": [
       "{'snapshot_id': 'NiwyNWRiYjg0ODk3ZTA3ZjM2MWJmZDUyMzUxNjcxZjFiZGViZjA2MTNl'}"
      ]
     },
     "execution_count": 238,
     "metadata": {},
     "output_type": "execute_result"
    }
   ],
   "source": [
    "sp_play.playlist_add_items(playlist_id=\"0iZ58FX6S0wOcFGc1GT4qK\", items=lista_rec, position=0)"
   ]
  },
  {
   "attachments": {},
   "cell_type": "markdown",
   "metadata": {},
   "source": [
    "##### Limpando a playlist para a próxima rodada de sugestões"
   ]
  },
  {
   "cell_type": "code",
   "execution_count": 235,
   "metadata": {},
   "outputs": [],
   "source": [
    "# obtendo os dados de todos os itens na playlist\n",
    "itens = []\n",
    "for item in sp_play.playlist_items(playlist_id=\"0iZ58FX6S0wOcFGc1GT4qK\")[\"items\"]:\n",
    "    itens.append(item[\"track\"][\"uri\"])"
   ]
  },
  {
   "cell_type": "code",
   "execution_count": 237,
   "metadata": {},
   "outputs": [
    {
     "data": {
      "text/plain": [
       "{'snapshot_id': 'NSw1NDQwNGRhYTNhOWExOWI3NmJmMDA1ZDAyMjNjZmFhMWM0NjNmZDBi'}"
      ]
     },
     "execution_count": 237,
     "metadata": {},
     "output_type": "execute_result"
    }
   ],
   "source": [
    "sp_play.playlist_remove_all_occurrences_of_items(playlist_id=\"0iZ58FX6S0wOcFGc1GT4qK\", items=itens)"
   ]
  }
 ],
 "metadata": {
  "kernelspec": {
   "display_name": "Python 3.10.8 ('spotify')",
   "language": "python",
   "name": "python3"
  },
  "language_info": {
   "codemirror_mode": {
    "name": "ipython",
    "version": 3
   },
   "file_extension": ".py",
   "mimetype": "text/x-python",
   "name": "python",
   "nbconvert_exporter": "python",
   "pygments_lexer": "ipython3",
   "version": "3.10.8"
  },
  "orig_nbformat": 4,
  "vscode": {
   "interpreter": {
    "hash": "b78bfe9a4cc8588c2cff02bb17ba264cc3b6173d3e5934fabeee3cf1d784438c"
   }
  }
 },
 "nbformat": 4,
 "nbformat_minor": 2
}
